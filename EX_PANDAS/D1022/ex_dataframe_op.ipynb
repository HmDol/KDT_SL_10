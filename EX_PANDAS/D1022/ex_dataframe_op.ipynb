{
 "cells": [
  {
   "cell_type": "markdown",
   "metadata": {},
   "source": [
    "#### 【 DataFrame 연산 】\n",
    "- Series와 동일한 원리로 연산 \n",
    "- 같은 위치에 있는 원소끼리 연산\n",
    "- 종류\n",
    "    * DataFrame객체와 숫자 연산\n",
    "    * DataFrame객체와 DataFrame객체 연산\n",
    "    * DataFrame객체와 연산메서드 "
   ]
  },
  {
   "cell_type": "markdown",
   "metadata": {},
   "source": [
    "[1] 모듈 로딩 및 데이터 준비<hr>"
   ]
  },
  {
   "cell_type": "code",
   "execution_count": 9,
   "metadata": {},
   "outputs": [],
   "source": [
    "## 모듈 로딩\n",
    "import pandas as pd "
   ]
  },
  {
   "cell_type": "code",
   "execution_count": 10,
   "metadata": {},
   "outputs": [
    {
     "data": {
      "text/html": [
       "<div>\n",
       "<style scoped>\n",
       "    .dataframe tbody tr th:only-of-type {\n",
       "        vertical-align: middle;\n",
       "    }\n",
       "\n",
       "    .dataframe tbody tr th {\n",
       "        vertical-align: top;\n",
       "    }\n",
       "\n",
       "    .dataframe thead th {\n",
       "        text-align: right;\n",
       "    }\n",
       "</style>\n",
       "<table border=\"1\" class=\"dataframe\">\n",
       "  <thead>\n",
       "    <tr style=\"text-align: right;\">\n",
       "      <th></th>\n",
       "      <th>0</th>\n",
       "      <th>1</th>\n",
       "      <th>2</th>\n",
       "    </tr>\n",
       "  </thead>\n",
       "  <tbody>\n",
       "    <tr>\n",
       "      <th>0</th>\n",
       "      <td>10</td>\n",
       "      <td>20</td>\n",
       "      <td>30</td>\n",
       "    </tr>\n",
       "    <tr>\n",
       "      <th>1</th>\n",
       "      <td>40</td>\n",
       "      <td>50</td>\n",
       "      <td>60</td>\n",
       "    </tr>\n",
       "  </tbody>\n",
       "</table>\n",
       "</div>"
      ],
      "text/plain": [
       "    0   1   2\n",
       "0  10  20  30\n",
       "1  40  50  60"
      ]
     },
     "execution_count": 10,
     "metadata": {},
     "output_type": "execute_result"
    }
   ],
   "source": [
    "## 데이터프레임 생성 \n",
    "dataDF = pd.DataFrame([[10, 20, 30],\n",
    "                       [40, 50, 60]])\n",
    "dataDF"
   ]
  },
  {
   "cell_type": "markdown",
   "metadata": {},
   "source": [
    "[2] DataFrame와 숫자 연산<hr>"
   ]
  },
  {
   "cell_type": "code",
   "execution_count": 11,
   "metadata": {},
   "outputs": [
    {
     "name": "stdout",
     "output_type": "stream",
     "text": [
      "dataDF + 17 =>\n",
      "    0   1   2\n",
      "0  27  37  47\n",
      "1  57  67  77\n",
      "\n",
      "dataDF - 17 =>\n",
      "    0   1   2\n",
      "0  -7   3  13\n",
      "1  23  33  43\n",
      "\n",
      "dataDF * 17 =>\n",
      "     0    1     2\n",
      "0  170  340   510\n",
      "1  680  850  1020\n",
      "\n",
      "dataDF / 17 =>\n",
      "          0         1         2\n",
      "0  0.588235  1.176471  1.764706\n",
      "1  2.352941  2.941176  3.529412\n",
      "\n",
      "dataDF % 17 =>\n",
      "    0   1   2\n",
      "0  10   3  13\n",
      "1   6  16   9\n",
      "\n"
     ]
    }
   ],
   "source": [
    "## 원소 단위로 각각 계산 진행 ==> 결과: DataFrame\n",
    "ret1 = dataDF + 17\n",
    "ret2 = dataDF - 17\n",
    "ret3 = dataDF * 17\n",
    "ret4 = dataDF / 17\n",
    "ret5 = dataDF % 17\n",
    "\n",
    "print(f'dataDF + 17 =>\\n{ret1}\\n')\n",
    "print(f'dataDF - 17 =>\\n{ret2}\\n')\n",
    "print(f'dataDF * 17 =>\\n{ret3}\\n')\n",
    "print(f'dataDF / 17 =>\\n{ret4}\\n')\n",
    "print(f'dataDF % 17 =>\\n{ret5}\\n')"
   ]
  },
  {
   "cell_type": "markdown",
   "metadata": {},
   "source": [
    "[3] DataFrame와 DataFrame 연산<hr>\n",
    "- 동일 인덱스 원소끼리 연산 수행 "
   ]
  },
  {
   "cell_type": "code",
   "execution_count": 12,
   "metadata": {},
   "outputs": [
    {
     "data": {
      "text/html": [
       "<div>\n",
       "<style scoped>\n",
       "    .dataframe tbody tr th:only-of-type {\n",
       "        vertical-align: middle;\n",
       "    }\n",
       "\n",
       "    .dataframe tbody tr th {\n",
       "        vertical-align: top;\n",
       "    }\n",
       "\n",
       "    .dataframe thead th {\n",
       "        text-align: right;\n",
       "    }\n",
       "</style>\n",
       "<table border=\"1\" class=\"dataframe\">\n",
       "  <thead>\n",
       "    <tr style=\"text-align: right;\">\n",
       "      <th></th>\n",
       "      <th>0</th>\n",
       "      <th>1</th>\n",
       "      <th>2</th>\n",
       "    </tr>\n",
       "  </thead>\n",
       "  <tbody>\n",
       "    <tr>\n",
       "      <th>0</th>\n",
       "      <td>10</td>\n",
       "      <td>20</td>\n",
       "      <td>30</td>\n",
       "    </tr>\n",
       "    <tr>\n",
       "      <th>2</th>\n",
       "      <td>40</td>\n",
       "      <td>50</td>\n",
       "      <td>60</td>\n",
       "    </tr>\n",
       "  </tbody>\n",
       "</table>\n",
       "</div>"
      ],
      "text/plain": [
       "    0   1   2\n",
       "0  10  20  30\n",
       "2  40  50  60"
      ]
     },
     "metadata": {},
     "output_type": "display_data"
    }
   ],
   "source": [
    "## 새로운 DataFrame 객체 생성\n",
    "dataDF2 = dataDF.copy()\n",
    "\n",
    "dataDF3 = dataDF.copy()\n",
    "dataDF3.index=[0,2]\n",
    "\n",
    "display(dataDF3)"
   ]
  },
  {
   "cell_type": "code",
   "execution_count": 15,
   "metadata": {},
   "outputs": [
    {
     "name": "stdout",
     "output_type": "stream",
     "text": [
      "dataDF + dataDF2 =>\n",
      "    0    1    2\n",
      "0  20   40   60\n",
      "1  80  100  120\n",
      "\n",
      "dataDF - dataDF2 =>\n",
      "   0  1  2\n",
      "0  0  0  0\n",
      "1  0  0  0\n",
      "\n",
      "dataDF * dataDF2 =>\n",
      "      0     1     2\n",
      "0   100   400   900\n",
      "1  1600  2500  3600\n",
      "\n",
      "dataDF / dataDF2 =>\n",
      "     0    1    2\n",
      "0  1.0  1.0  1.0\n",
      "1  1.0  1.0  1.0\n",
      "\n",
      "dataDF % dataDF2 =>\n",
      "   0  1  2\n",
      "0  0  0  0\n",
      "1  0  0  0\n",
      "\n"
     ]
    }
   ],
   "source": [
    "## => dataDF + dataDF2 연산 : 동일 인덱스 원소끼리 연산 \n",
    "ret1 = dataDF + dataDF2\n",
    "ret2 = dataDF - dataDF2\n",
    "ret3 = dataDF * dataDF2\n",
    "ret4 = dataDF / dataDF2\n",
    "ret5 = dataDF % dataDF2\n",
    "\n",
    "print(f'dataDF + dataDF2 =>\\n{ret1}\\n')\n",
    "print(f'dataDF - dataDF2 =>\\n{ret2}\\n')\n",
    "print(f'dataDF * dataDF2 =>\\n{ret3}\\n')\n",
    "print(f'dataDF / dataDF2 =>\\n{ret4}\\n')\n",
    "print(f'dataDF % dataDF2 =>\\n{ret5}\\n')"
   ]
  },
  {
   "cell_type": "code",
   "execution_count": null,
   "metadata": {},
   "outputs": [
    {
     "name": "stdout",
     "output_type": "stream",
     "text": [
      "dataDF + dataDF3 =>\n",
      "      0     1     2\n",
      "0  20.0  40.0  60.0\n",
      "1   NaN   NaN   NaN\n",
      "2   NaN   NaN   NaN\n",
      "\n",
      "dataDF - dataDF3 =>\n",
      "     0    1    2\n",
      "0  0.0  0.0  0.0\n",
      "1  NaN  NaN  NaN\n",
      "2  NaN  NaN  NaN\n",
      "\n",
      "dataDF * dataDF3 =>\n",
      "       0      1      2\n",
      "0  100.0  400.0  900.0\n",
      "1    NaN    NaN    NaN\n",
      "2    NaN    NaN    NaN\n",
      "\n",
      "dataDF / dataDF3 =>\n",
      "     0    1    2\n",
      "0  1.0  1.0  1.0\n",
      "1  NaN  NaN  NaN\n",
      "2  NaN  NaN  NaN\n",
      "\n",
      "dataDF % dataDF3 =>\n",
      "     0    1    2\n",
      "0  0.0  0.0  0.0\n",
      "1  NaN  NaN  NaN\n",
      "2  NaN  NaN  NaN\n",
      "\n"
     ]
    }
   ],
   "source": [
    "## => dataDF + dataDF3 연산 : 동일 인덱스 원소끼리 연산 \n",
    "##   [0, 1, 2]  [0, 2, 3]\n",
    "ret1 = dataDF + dataDF3\n",
    "ret2 = dataDF - dataDF3\n",
    "ret3 = dataDF * dataDF3\n",
    "ret4 = dataDF / dataDF3\n",
    "ret5 = dataDF % dataDF3\n",
    "\n",
    "print(f'dataDF + dataDF3 =>\\n{ret1}\\n')\n",
    "print(f'dataDF - dataDF3 =>\\n{ret2}\\n')\n",
    "print(f'dataDF * dataDF3 =>\\n{ret3}\\n')\n",
    "print(f'dataDF / dataDF3 =>\\n{ret4}\\n')\n",
    "print(f'dataDF % dataDF3 =>\\n{ret5}\\n')"
   ]
  },
  {
   "cell_type": "markdown",
   "metadata": {},
   "source": [
    "[4] DataFrame와 연산 메서드 <hr>"
   ]
  },
  {
   "cell_type": "code",
   "execution_count": 19,
   "metadata": {},
   "outputs": [
    {
     "name": "stdout",
     "output_type": "stream",
     "text": [
      "dataDF + dataDF3 =>\n",
      "      0     1     2\n",
      "0  20.0  40.0  60.0\n",
      "1  40.0  50.0  60.0\n",
      "2  40.0  50.0  60.0\n",
      "\n",
      "dataDF - dataDF3 =>\n",
      "      0     1     2\n",
      "0   0.0   0.0   0.0\n",
      "1  40.0  50.0  60.0\n",
      "2 -40.0 -50.0 -60.0\n",
      "\n",
      "dataDF * dataDF3 =>\n",
      "       0      1      2\n",
      "0  100.0  400.0  900.0\n",
      "1    0.0    0.0    0.0\n",
      "2    0.0    0.0    0.0\n",
      "\n",
      "dataDF / dataDF3 =>\n",
      "     0    1    2\n",
      "0  1.0  1.0  1.0\n",
      "1  inf  inf  inf\n",
      "2  0.0  0.0  0.0\n",
      "\n",
      "dataDF % dataDF3 =>\n",
      "     0    1    2\n",
      "0  0.0  0.0  0.0\n",
      "1  NaN  NaN  NaN\n",
      "2  0.0  0.0  0.0\n",
      "\n"
     ]
    }
   ],
   "source": [
    "## 인덱스가 같은 원소 없을 때 계산 불가 ==> 해결 : fill_value 매개변수\n",
    "ret1 = dataDF.add(dataDF3, fill_value=0)\n",
    "ret2 = dataDF.sub(dataDF3, fill_value=0)\n",
    "ret3 = dataDF.mul(dataDF3, fill_value=0)\n",
    "ret4 = dataDF.div(dataDF3, fill_value=0)\n",
    "ret5 = dataDF.mod(dataDF3, fill_value=0)\n",
    "\n",
    "print(f'dataDF + dataDF3 =>\\n{ret1}\\n')\n",
    "print(f'dataDF - dataDF3 =>\\n{ret2}\\n')\n",
    "print(f'dataDF * dataDF3 =>\\n{ret3}\\n')\n",
    "print(f'dataDF / dataDF3 =>\\n{ret4}\\n')\n",
    "print(f'dataDF % dataDF3 =>\\n{ret5}\\n')"
   ]
  },
  {
   "cell_type": "code",
   "execution_count": null,
   "metadata": {},
   "outputs": [],
   "source": []
  }
 ],
 "metadata": {
  "kernelspec": {
   "display_name": "DATA_311",
   "language": "python",
   "name": "python3"
  },
  "language_info": {
   "codemirror_mode": {
    "name": "ipython",
    "version": 3
   },
   "file_extension": ".py",
   "mimetype": "text/x-python",
   "name": "python",
   "nbconvert_exporter": "python",
   "pygments_lexer": "ipython3",
   "version": "3.11.13"
  }
 },
 "nbformat": 4,
 "nbformat_minor": 2
}
