{
 "cells": [
  {
   "cell_type": "markdown",
   "id": "d323dba7",
   "metadata": {},
   "source": [
    "# 제목\n",
    "## 제목\n",
    "### 제목\n",
    "- 현재 셀만 실행 : ctrl + enter \n",
    "- 현재 셀 실행 후 아래 셀 없으면 셀 추가 후 이동 => shift + enter\n",
    "- 패키지 설치\n",
    "    * !pip install 패키지명 / %pip isntall 패키지명\n",
    "    * conda 설치 명령어 미지원 ==> Termianl 실행 후 본인 가상환경에서 설치\n",
    "    * pip 설치만 지원하는 패키지는 pip로 설치\n",
    "    * 그 외는 conda 로 설치하는 것이 충돌을 예방할 수 있음"
   ]
  },
  {
   "cell_type": "code",
   "execution_count": 14,
   "id": "4b53c652",
   "metadata": {},
   "outputs": [],
   "source": [
    "import pandas as pd"
   ]
  },
  {
   "cell_type": "code",
   "execution_count": 15,
   "id": "f9ee1e2f",
   "metadata": {},
   "outputs": [],
   "source": [
    "## ----------------------------------------------------------------------\n",
    "## -> Series 인스턴스의 속성 읽기\n",
    "## ----------------------------------------------------------------------\n",
    "def print_DF(df):\n",
    "    print(\"\\n--------------속성 읽기 -------------------\")\n",
    "    print('인덱스 :',df.index)\n",
    "    print('컬럼즈 :',df.columns)\n",
    "    print(f'데이터 :\\n{df.values}, {type(df.values)}')\n",
    "    print(f'형  태 : {df.shape}') ## 1차원으로 원소 수 반환\n",
    "    print(f'차  원 : {df.ndim}') ## 1차원\n",
    "    print(f'타  입 : \\n{df.dtypes}')"
   ]
  },
  {
   "cell_type": "code",
   "execution_count": 16,
   "id": "2c20e919",
   "metadata": {},
   "outputs": [],
   "source": [
    "## ----------------------------------------------------------------------\n",
    "## -> 데이터 준비\n",
    "## ----------------------------------------------------------------------\n",
    "jumsu = [[99, 77, 55], [78,12,33], [98,23,91]]\n",
    "idx = ['0번', '1번', '2번']\n",
    "cols = ['국어','체육', '과학']\n"
   ]
  },
  {
   "cell_type": "code",
   "execution_count": 17,
   "id": "af293182",
   "metadata": {},
   "outputs": [],
   "source": [
    "## ----------------------------------------------------------------------\n",
    "## -> Series로 변환 저장\n",
    "## ----------------------------------------------------------------------\n",
    "## -> 데이터, 행인덱스\n",
    "df1 = pd.DataFrame(jumsu, idx)\n",
    "\n",
    "## -> 데이터, 행인덱스, 열인덱스\n",
    "df2 = pd.DataFrame(jumsu,idx,cols)\n",
    "\n",
    "## -> 데이터, 행인덱스, 열인덱스, 타입즈\n",
    "df3 = pd.DataFrame(jumsu,idx,cols,dtype='int8')"
   ]
  },
  {
   "cell_type": "code",
   "execution_count": 18,
   "id": "40df9f10",
   "metadata": {},
   "outputs": [
    {
     "name": "stdout",
     "output_type": "stream",
     "text": [
      "\n",
      "--------------속성 읽기 -------------------\n",
      "인덱스 : Index(['0번', '1번', '2번'], dtype='object')\n",
      "컬럼즈 : RangeIndex(start=0, stop=3, step=1)\n",
      "데이터 :\n",
      "[[99 77 55]\n",
      " [78 12 33]\n",
      " [98 23 91]], <class 'numpy.ndarray'>\n",
      "형  태 : (3, 3)\n",
      "차  원 : 2\n",
      "타  입 : \n",
      "0    int64\n",
      "1    int64\n",
      "2    int64\n",
      "dtype: object\n",
      "\n",
      "\n",
      "--------------속성 읽기 -------------------\n",
      "인덱스 : Index(['0번', '1번', '2번'], dtype='object')\n",
      "컬럼즈 : Index(['국어', '체육', '과학'], dtype='object')\n",
      "데이터 :\n",
      "[[99 77 55]\n",
      " [78 12 33]\n",
      " [98 23 91]], <class 'numpy.ndarray'>\n",
      "형  태 : (3, 3)\n",
      "차  원 : 2\n",
      "타  입 : \n",
      "국어    int64\n",
      "체육    int64\n",
      "과학    int64\n",
      "dtype: object\n",
      "\n",
      "\n",
      "--------------속성 읽기 -------------------\n",
      "인덱스 : Index(['0번', '1번', '2번'], dtype='object')\n",
      "컬럼즈 : Index(['국어', '체육', '과학'], dtype='object')\n",
      "데이터 :\n",
      "[[99 77 55]\n",
      " [78 12 33]\n",
      " [98 23 91]], <class 'numpy.ndarray'>\n",
      "형  태 : (3, 3)\n",
      "차  원 : 2\n",
      "타  입 : \n",
      "국어    int8\n",
      "체육    int8\n",
      "과학    int8\n",
      "dtype: object\n"
     ]
    }
   ],
   "source": [
    "## ----------------------------------------------------------------------\n",
    "## -> List와 Series 데이터 표현/저장 방식 비교\n",
    "## ----------------------------------------------------------------------\n",
    "print_DF(df1)\n",
    "print()\n",
    "print_DF(df2)\n",
    "print()\n",
    "print_DF(df3)\n",
    "\n"
   ]
  }
 ],
 "metadata": {
  "kernelspec": {
   "display_name": "DATA_311",
   "language": "python",
   "name": "python3"
  },
  "language_info": {
   "codemirror_mode": {
    "name": "ipython",
    "version": 3
   },
   "file_extension": ".py",
   "mimetype": "text/x-python",
   "name": "python",
   "nbconvert_exporter": "python",
   "pygments_lexer": "ipython3",
   "version": "3.11.13"
  }
 },
 "nbformat": 4,
 "nbformat_minor": 5
}
