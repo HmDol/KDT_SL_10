{
 "cells": [
  {
   "cell_type": "markdown",
   "id": "37dedd3c",
   "metadata": {},
   "source": [
    "#### 【 Pandas 자료형 변환 】\n",
    "- 자료형 : object(str, mixed), int64, float64, bool, datetime64[nx], categorical\n",
    "- 변환\n",
    "    * DF.astype(), SR.astype()\n",
    "    * to_numeric()\n",
    "    * to_datetime()"
   ]
  },
  {
   "cell_type": "markdown",
   "id": "c5591103",
   "metadata": {},
   "source": [
    "[1] 모듈 로딩 및 데이터 준비"
   ]
  },
  {
   "cell_type": "code",
   "execution_count": 8,
   "id": "3f8fb03a",
   "metadata": {},
   "outputs": [],
   "source": [
    "## 모듈 준비\n",
    "import pandas as pd"
   ]
  },
  {
   "cell_type": "code",
   "execution_count": 9,
   "id": "72087b50",
   "metadata": {},
   "outputs": [
    {
     "name": "stdout",
     "output_type": "stream",
     "text": [
      "변환전\n"
     ]
    },
    {
     "data": {
      "text/plain": [
       "age        object\n",
       "height    float64\n",
       "passed      int64\n",
       "name       object\n",
       "birth      object\n",
       "gender     object\n",
       "dtype: object"
      ]
     },
     "metadata": {},
     "output_type": "display_data"
    }
   ],
   "source": [
    "## 데이터 준비\n",
    "df = pd.DataFrame({\n",
    "    'age' : ['23','45','30'],\n",
    "    'height' : [170.5, 180.2, 160.3],\n",
    "    'passed' : [1, 0, 1],\n",
    "    \"name\" : ['Ann','Hong', 'Lee'],\n",
    "    \"birth\" : [\"2000-10-01\", '2000-01-01', '2005-12-24'],\n",
    "    'gender' : ['F', 'M', 'F']\n",
    "})\n",
    "print(\"변환전\")\n",
    "display(df.dtypes)\n"
   ]
  },
  {
   "cell_type": "code",
   "execution_count": 19,
   "id": "59d41cd2",
   "metadata": {},
   "outputs": [
    {
     "name": "stdout",
     "output_type": "stream",
     "text": [
      "변환 확인 : int64\n"
     ]
    }
   ],
   "source": [
    "## 이름 : object ==> string\n",
    "df['age'] = df['age'].astype(int)\n",
    "\n",
    "print('변환 확인 :', df.age.dtype)"
   ]
  },
  {
   "cell_type": "code",
   "execution_count": null,
   "id": "bcc7286d",
   "metadata": {},
   "outputs": [],
   "source": []
  },
  {
   "cell_type": "code",
   "execution_count": 10,
   "id": "3c50782c",
   "metadata": {},
   "outputs": [
    {
     "name": "stdout",
     "output_type": "stream",
     "text": [
      "변환 확인 : string\n"
     ]
    }
   ],
   "source": [
    "## 이름 : object ==> string\n",
    "df['name'] = df['name'].astype(\"string\")\n",
    "\n",
    "print('변환 확인 :', df.name.dtype)"
   ]
  },
  {
   "cell_type": "code",
   "execution_count": 14,
   "id": "0df9aa5a",
   "metadata": {},
   "outputs": [
    {
     "name": "stdout",
     "output_type": "stream",
     "text": [
      "변환 확인 : datetime64[ns]\n"
     ]
    }
   ],
   "source": [
    "## 이름 : object ==> datetime64[ns]\n",
    "# df['birth'] = df['birth'].astype(\"datetime64[ns]\")\n",
    "df['birth'] = pd.to_datetime(df['birth'])\n",
    "\n",
    "print('변환 확인 :', df.birth.dtype)"
   ]
  },
  {
   "cell_type": "code",
   "execution_count": 18,
   "id": "216b1ed0",
   "metadata": {},
   "outputs": [
    {
     "name": "stdout",
     "output_type": "stream",
     "text": [
      "변환 확인 : category\n"
     ]
    },
    {
     "data": {
      "text/plain": [
       "'전체 확인'"
      ]
     },
     "metadata": {},
     "output_type": "display_data"
    },
    {
     "data": {
      "text/plain": [
       "age               object\n",
       "height           float64\n",
       "passed             int64\n",
       "name      string[python]\n",
       "birth     datetime64[ns]\n",
       "gender          category\n",
       "dtype: object"
      ]
     },
     "metadata": {},
     "output_type": "display_data"
    }
   ],
   "source": [
    "## 성별 : object ==> category\n",
    "df['gender'] = df['gender'].astype(\"category\")\n",
    "# df['birth'] = pd.to_datetime(df['birth'])\n",
    "\n",
    "print('변환 확인 :', df.gender.dtype)\n",
    "\n",
    "\n",
    "## 전체 확인 \n",
    "display('전체 확인', df.dtypes)"
   ]
  },
  {
   "cell_type": "markdown",
   "id": "f2fccad3",
   "metadata": {},
   "source": [
    "[3] query()를 이용한 필터링"
   ]
  }
 ],
 "metadata": {
  "kernelspec": {
   "display_name": "DATA_311",
   "language": "python",
   "name": "python3"
  },
  "language_info": {
   "codemirror_mode": {
    "name": "ipython",
    "version": 3
   },
   "file_extension": ".py",
   "mimetype": "text/x-python",
   "name": "python",
   "nbconvert_exporter": "python",
   "pygments_lexer": "ipython3",
   "version": "3.11.13"
  }
 },
 "nbformat": 4,
 "nbformat_minor": 5
}
