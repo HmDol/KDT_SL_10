{
 "cells": [
  {
   "cell_type": "markdown",
   "id": "37dedd3c",
   "metadata": {},
   "source": [
    "#### 【 Accessor 접근자 】\n",
    "- pandas에서 str 데이터, datetime 데이터에 간편한 처리 위해 제공\n",
    "- Series에 제공되는 기능\n",
    "- 종류\n",
    "    * str 데이터 : Series.str 접근자\n",
    "    * datetime 데이터 : Series.dt 접근자"
   ]
  },
  {
   "cell_type": "markdown",
   "id": "c5591103",
   "metadata": {},
   "source": [
    "[1] 모듈 로딩 및 데이터 준비"
   ]
  },
  {
   "cell_type": "code",
   "execution_count": 1,
   "id": "3f8fb03a",
   "metadata": {},
   "outputs": [],
   "source": [
    "## 모듈 준비\n",
    "import pandas as pd"
   ]
  },
  {
   "cell_type": "code",
   "execution_count": 2,
   "id": "72087b50",
   "metadata": {},
   "outputs": [
    {
     "data": {
      "text/html": [
       "<div>\n",
       "<style scoped>\n",
       "    .dataframe tbody tr th:only-of-type {\n",
       "        vertical-align: middle;\n",
       "    }\n",
       "\n",
       "    .dataframe tbody tr th {\n",
       "        vertical-align: top;\n",
       "    }\n",
       "\n",
       "    .dataframe thead th {\n",
       "        text-align: right;\n",
       "    }\n",
       "</style>\n",
       "<table border=\"1\" class=\"dataframe\">\n",
       "  <thead>\n",
       "    <tr style=\"text-align: right;\">\n",
       "      <th></th>\n",
       "      <th>이름</th>\n",
       "      <th>댓글</th>\n",
       "    </tr>\n",
       "  </thead>\n",
       "  <tbody>\n",
       "    <tr>\n",
       "      <th>0</th>\n",
       "      <td>홍 길동</td>\n",
       "      <td>Good Luck</td>\n",
       "    </tr>\n",
       "    <tr>\n",
       "      <th>1</th>\n",
       "      <td>마 징가</td>\n",
       "      <td>Happy New Year</td>\n",
       "    </tr>\n",
       "    <tr>\n",
       "      <th>2</th>\n",
       "      <td>베 트맨</td>\n",
       "      <td>good day</td>\n",
       "    </tr>\n",
       "  </tbody>\n",
       "</table>\n",
       "</div>"
      ],
      "text/plain": [
       "     이름              댓글\n",
       "0  홍 길동       Good Luck\n",
       "1  마 징가  Happy New Year\n",
       "2  베 트맨        good day"
      ]
     },
     "metadata": {},
     "output_type": "display_data"
    }
   ],
   "source": [
    "## 데이터 준비\n",
    "data = {\n",
    "    '이름' : ['홍 길동', '마 징가', '베 트맨'],\n",
    "    '댓글' : [' Good Luck', 'Happy New Year', \"good day\"]\n",
    "}\n",
    "dataDF = pd.DataFrame(data)\n",
    "\n",
    "display(dataDF)\n"
   ]
  },
  {
   "cell_type": "code",
   "execution_count": 3,
   "id": "3c50782c",
   "metadata": {},
   "outputs": [
    {
     "name": "stdout",
     "output_type": "stream",
     "text": [
      "     이름              댓글\n",
      "0  홍 길동       good luck\n",
      "1  마 징가  happy new year\n",
      "2  베 트맨        good day\n"
     ]
    },
    {
     "name": "stderr",
     "output_type": "stream",
     "text": [
      "C:\\Users\\kdt008\\AppData\\Local\\Temp\\ipykernel_24620\\1499754103.py:5: FutureWarning: ChainedAssignmentError: behaviour will change in pandas 3.0!\n",
      "You are setting values through chained assignment. Currently this works in certain cases, but when using Copy-on-Write (which will become the default behaviour in pandas 3.0) this will never work to update the original DataFrame or Series, because the intermediate object on which we are setting values will behave as a copy.\n",
      "A typical example is when you are setting values in a column of a DataFrame, like:\n",
      "\n",
      "df[\"col\"][row_indexer] = value\n",
      "\n",
      "Use `df.loc[row_indexer, \"col\"] = values` instead, to perform the assignment in a single step and ensure this keeps updating the original `df`.\n",
      "\n",
      "See the caveats in the documentation: https://pandas.pydata.org/pandas-docs/stable/user_guide/indexing.html#returning-a-view-versus-a-copy\n",
      "\n",
      "  dataDF['댓글'][idx] = dataDF['댓글'][idx].lower()\n",
      "C:\\Users\\kdt008\\AppData\\Local\\Temp\\ipykernel_24620\\1499754103.py:8: FutureWarning: ChainedAssignmentError: behaviour will change in pandas 3.0!\n",
      "You are setting values through chained assignment. Currently this works in certain cases, but when using Copy-on-Write (which will become the default behaviour in pandas 3.0) this will never work to update the original DataFrame or Series, because the intermediate object on which we are setting values will behave as a copy.\n",
      "A typical example is when you are setting values in a column of a DataFrame, like:\n",
      "\n",
      "df[\"col\"][row_indexer] = value\n",
      "\n",
      "Use `df.loc[row_indexer, \"col\"] = values` instead, to perform the assignment in a single step and ensure this keeps updating the original `df`.\n",
      "\n",
      "See the caveats in the documentation: https://pandas.pydata.org/pandas-docs/stable/user_guide/indexing.html#returning-a-view-versus-a-copy\n",
      "\n",
      "  dataDF['댓글'][idx] = dataDF['댓글'][idx].upper()\n"
     ]
    },
    {
     "data": {
      "text/html": [
       "<div>\n",
       "<style scoped>\n",
       "    .dataframe tbody tr th:only-of-type {\n",
       "        vertical-align: middle;\n",
       "    }\n",
       "\n",
       "    .dataframe tbody tr th {\n",
       "        vertical-align: top;\n",
       "    }\n",
       "\n",
       "    .dataframe thead th {\n",
       "        text-align: right;\n",
       "    }\n",
       "</style>\n",
       "<table border=\"1\" class=\"dataframe\">\n",
       "  <thead>\n",
       "    <tr style=\"text-align: right;\">\n",
       "      <th></th>\n",
       "      <th>이름</th>\n",
       "      <th>댓글</th>\n",
       "    </tr>\n",
       "  </thead>\n",
       "  <tbody>\n",
       "    <tr>\n",
       "      <th>0</th>\n",
       "      <td>홍 길동</td>\n",
       "      <td>GOOD LUCK</td>\n",
       "    </tr>\n",
       "    <tr>\n",
       "      <th>1</th>\n",
       "      <td>마 징가</td>\n",
       "      <td>HAPPY NEW YEAR</td>\n",
       "    </tr>\n",
       "    <tr>\n",
       "      <th>2</th>\n",
       "      <td>베 트맨</td>\n",
       "      <td>GOOD DAY</td>\n",
       "    </tr>\n",
       "  </tbody>\n",
       "</table>\n",
       "</div>"
      ],
      "text/plain": [
       "     이름              댓글\n",
       "0  홍 길동       GOOD LUCK\n",
       "1  마 징가  HAPPY NEW YEAR\n",
       "2  베 트맨        GOOD DAY"
      ]
     },
     "metadata": {},
     "output_type": "display_data"
    }
   ],
   "source": [
    "## 댓글 컬럼의 내용을 모두 소문자로 변경\n",
    "dataDF['댓글'][0].lower() ##<= 원소 1개 선택시 문자열 관련 메서드 사용 ㅇ\n",
    "\n",
    "for idx in range(dataDF['댓글'].shape[0]) :\n",
    "    dataDF['댓글'][idx] = dataDF['댓글'][idx].lower()\n",
    "print(dataDF)\n",
    "for idx in dataDF.index :\n",
    "    dataDF['댓글'][idx] = dataDF['댓글'][idx].upper()\n",
    "\n",
    "display(dataDF)"
   ]
  },
  {
   "cell_type": "markdown",
   "id": "0df9aa5a",
   "metadata": {},
   "source": [
    "[1] Series.str접근자 : 문자열 관련 메서드들 제공"
   ]
  },
  {
   "cell_type": "code",
   "execution_count": 4,
   "id": "216b1ed0",
   "metadata": {},
   "outputs": [
    {
     "data": {
      "text/plain": [
       "0               Hello, World! \n",
       "1                Pandas_is_FUN\n",
       "2    email: user01@example.com\n",
       "3                         None\n",
       "dtype: object"
      ]
     },
     "metadata": {},
     "output_type": "display_data"
    },
    {
     "data": {
      "text/plain": [
       "RangeIndex(start=0, stop=4, step=1)"
      ]
     },
     "metadata": {},
     "output_type": "display_data"
    }
   ],
   "source": [
    "## Series 인스턴스 생성\n",
    "dataSR =pd.Series( [\" Hello, World! \",\n",
    "                    \"Pandas_is_FUN\",\n",
    "                    \"email: user01@example.com\",\n",
    "                    None\n",
    "                    ])\n",
    "\n",
    "## 확인\n",
    "display(dataSR, dataSR.index)"
   ]
  },
  {
   "cell_type": "code",
   "execution_count": 10,
   "id": "f81b5bfc",
   "metadata": {},
   "outputs": [
    {
     "name": "stdout",
     "output_type": "stream",
     "text": [
      "0                Hello, World!\n",
      "1                Pandas_is_FUN\n",
      "2    email: user01@example.com\n",
      "3                         None\n",
      "dtype: object\n",
      "0                hello, world!\n",
      "1                pandas_is_fun\n",
      "2    email: user01@example.com\n",
      "3                         None\n",
      "dtype: object\n"
     ]
    }
   ],
   "source": [
    "## 1) 공백제거 & 소문자화\n",
    "## strip() :좌우공백 제거\n",
    "print(dataSR.str.strip())\n",
    "\n",
    "## 공백 제거 + lower() 소문자변환\n",
    "print(dataSR.str.strip().str.lower())"
   ]
  },
  {
   "cell_type": "code",
   "execution_count": null,
   "id": "9513f9e6",
   "metadata": {},
   "outputs": [
    {
     "name": "stdout",
     "output_type": "stream",
     "text": [
      "0     True\n",
      "1    False\n",
      "2    False\n",
      "3    False\n",
      "dtype: bool\n",
      "0    -1.0\n",
      "1    10.0\n",
      "2    -1.0\n",
      "3     NaN\n",
      "dtype: float64\n"
     ]
    }
   ],
   "source": [
    "## contains() : 문자열 안에 해당 문자열 존재 여부\n",
    "##              case 매개변수 : 대소문자 일치여부\n",
    "##              na   매개변수 : 결측치에 대한 처리\n",
    "print(dataSR.str.contains(\"world\", case=False, na=False))\n",
    "\n",
    "## find() : 문자열에서 제일 먼저 발견되는 인덱스 반환,\n",
    "print(dataSR.str.find(\"fun\"))   ## 없으면 -1, 결측치 NaN 처리\n"
   ]
  },
  {
   "cell_type": "code",
   "execution_count": 14,
   "id": "e22d4cc0",
   "metadata": {},
   "outputs": [
    {
     "name": "stdout",
     "output_type": "stream",
     "text": [
      "0     Hell\n",
      "1    Panda\n",
      "2    email\n",
      "3     None\n",
      "dtype: object\n",
      "0    15.0\n",
      "1    13.0\n",
      "2    25.0\n",
      "3     NaN\n",
      "dtype: float64\n"
     ]
    }
   ],
   "source": [
    "## 3) 부분 문자열 추출(슬라이싱) / 길이\n",
    "print(dataSR.str.slice(0,5))    # 앞 5글자\n",
    "\n",
    "print(dataSR.str.len())         # 글자 수 (한글도 문자 1개로 셈)"
   ]
  },
  {
   "cell_type": "code",
   "execution_count": null,
   "id": "cf6cc705",
   "metadata": {},
   "outputs": [
    {
     "name": "stdout",
     "output_type": "stream",
     "text": [
      "0              [ Hello, World! ]\n",
      "1              [Pandas, is, FUN]\n",
      "2    [email: user01@example.com]\n",
      "3                           None\n",
      "dtype: object\n",
      "<class 'list'>\n",
      "                           0     1     2\n",
      "0             Hello, World!   None  None\n",
      "1                     Pandas    is   FUN\n",
      "2  email: user01@example.com  None  None\n",
      "3                       None  None  None\n",
      "<class 'pandas.core.frame.DataFrame'>\n"
     ]
    }
   ],
   "source": [
    "## 4) 구분자 분리 및 확장\n",
    "## 구분자 분리 --> List 담아서 반환 ## 여전히 Series로 반환\n",
    "print(dataSR.str.split(\"_\"))\n",
    "ret = dataSR.str.split(\"_\")\n",
    "print(type(ret[0]))\n",
    "\n",
    "## 구분자 분리 --> 여러 열로 확장 ## DataFrame으로 반환\n",
    "print(dataSR.str.split(\"_\", expand=True))\n",
    "ret = dataSR.str.split(\"_\", expand=True)\n",
    "print(type(ret))"
   ]
  },
  {
   "cell_type": "markdown",
   "id": "79a6e68b",
   "metadata": {},
   "source": [
    "[3] Series.dt 접근자 : 날짜/시간 관련 메서드들<hr>"
   ]
  },
  {
   "cell_type": "code",
   "execution_count": 18,
   "id": "8ed5e3d4",
   "metadata": {},
   "outputs": [
    {
     "data": {
      "text/plain": [
       "0      2025-10-01 08:30\n",
       "1      2025/10/02 21:15\n",
       "2    Oct 03, 2025 06:00\n",
       "3                  None\n",
       "dtype: object"
      ]
     },
     "metadata": {},
     "output_type": "display_data"
    }
   ],
   "source": [
    "## Series 인스턴스 생성\n",
    "dataSR = pd.Series([\n",
    "    \"2025-10-01 08:30\",\n",
    "    \"2025/10/02 21:15\",\n",
    "    \"Oct 03, 2025 06:00\",\n",
    "    None\n",
    "])\n",
    "display(dataSR)"
   ]
  },
  {
   "cell_type": "code",
   "execution_count": null,
   "id": "7c8c4c76",
   "metadata": {},
   "outputs": [
    {
     "name": "stdout",
     "output_type": "stream",
     "text": [
      "0   2025-10-01 08:30:00\n",
      "1   2025-10-02 21:15:00\n",
      "2   2025-10-03 06:00:00\n",
      "3                   NaT\n",
      "dtype: datetime64[ns]\n"
     ]
    }
   ],
   "source": [
    "## 문자열 -> datetime 타입 변환\n",
    "## pd.to_datetime() 함수\n",
    "## - format : 포멧지정(포멧들이 섞여 있을 경우 mixed)\n",
    "## - errors : 변환 실패시 처리 방법 [기]rasie ==> coerce(NaT로 채움)\n",
    "tsSR = pd.to_datetime(dataSR, format='mixed', errors='coerce') ## 에러값을 NaT로 채우는 것\n",
    "print(tsSR)"
   ]
  },
  {
   "cell_type": "code",
   "execution_count": 23,
   "id": "28079644",
   "metadata": {},
   "outputs": [
    {
     "name": "stdout",
     "output_type": "stream",
     "text": [
      "0    2025.0\n",
      "1    2025.0\n",
      "2    2025.0\n",
      "3       NaN\n",
      "dtype: float64\n",
      "0    10.0\n",
      "1    10.0\n",
      "2    10.0\n",
      "3     NaN\n",
      "dtype: float64\n",
      "0    1.0\n",
      "1    2.0\n",
      "2    3.0\n",
      "3    NaN\n",
      "dtype: float64\n",
      "0    2.0\n",
      "1    3.0\n",
      "2    4.0\n",
      "3    NaN\n",
      "dtype: float64\n",
      "0    Wednesday\n",
      "1     Thursday\n",
      "2       Friday\n",
      "3          NaN\n",
      "dtype: object\n",
      "0     8.0\n",
      "1    21.0\n",
      "2     6.0\n",
      "3     NaN\n",
      "dtype: float64\n"
     ]
    }
   ],
   "source": [
    "## 1) 구성요소 뽑기\n",
    "print(tsSR.dt.year)         ## 연도\n",
    "print(tsSR.dt.month)        ## 월(숫자)\n",
    "print(tsSR.dt.day)          ## 일\n",
    "print(tsSR.dt.weekday)      ## 0(월) ~ 6(일)\n",
    "print(tsSR.dt.day_name())   ## 요일 이름\n",
    "print(tsSR.dt.hour)         ## 시"
   ]
  },
  {
   "cell_type": "code",
   "execution_count": 26,
   "id": "fd08833e",
   "metadata": {},
   "outputs": [
    {
     "name": "stdout",
     "output_type": "stream",
     "text": [
      "0    2025/10/01 08:30\n",
      "1    2025/10/02 21:15\n",
      "2    2025/10/03 06:00\n",
      "3                 NaN\n",
      "dtype: object\n"
     ]
    }
   ],
   "source": [
    "# 2) 형식 문자열로 출력\n",
    "print(tsSR.dt.strftime(\"%Y/%m/%d %H:%M\"))"
   ]
  },
  {
   "cell_type": "code",
   "execution_count": 27,
   "id": "1420d9d2",
   "metadata": {},
   "outputs": [
    {
     "name": "stdout",
     "output_type": "stream",
     "text": [
      "0     True\n",
      "1    False\n",
      "2    False\n",
      "3    False\n",
      "dtype: bool\n",
      "0    False\n",
      "1    False\n",
      "2    False\n",
      "3    False\n",
      "dtype: bool\n"
     ]
    }
   ],
   "source": [
    "## 3) 시계열 성질 (월초/월말 등) boolean\n",
    "print(tsSR.dt.is_month_start)\n",
    "print(tsSR.dt.is_month_end)"
   ]
  }
 ],
 "metadata": {
  "kernelspec": {
   "display_name": "DATA_311",
   "language": "python",
   "name": "python3"
  },
  "language_info": {
   "codemirror_mode": {
    "name": "ipython",
    "version": 3
   },
   "file_extension": ".py",
   "mimetype": "text/x-python",
   "name": "python",
   "nbconvert_exporter": "python",
   "pygments_lexer": "ipython3",
   "version": "3.11.13"
  }
 },
 "nbformat": 4,
 "nbformat_minor": 5
}
