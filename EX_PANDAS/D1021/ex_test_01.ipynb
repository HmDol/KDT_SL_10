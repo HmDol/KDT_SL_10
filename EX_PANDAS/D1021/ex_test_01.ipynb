{
 "cells": [
  {
   "cell_type": "markdown",
   "id": "d2c356a8",
   "metadata": {},
   "source": [
    "###[ Series / DataFrame 다루기]\n",
    "- Series/DataFrame의 속성 읽기/변경\n",
    "- Series/DataFrame 행인덱스/열이름 전체/부분변경 : rename(index, columns, inplace)\n",
    "- Series/DataFrame 행/열 축 이름 설정 : rename_axis(index,columns, inplace)\n",
    "- Series/DataFrame 행/열 삭제 : drop(labels, axis, index, columns, inplace)\n",
    "- 기억 매개변수\n",
    "    * axis : 행과 열 방향 설정 매개변수\n",
    "        - 0 -> 행 기준 [기본]\n",
    "        - 1-> 열 기준\n",
    "    * inplace : 원본 데이터 유지 여부 설정\n",
    "        - False -> 원본유지, 복사본 반환[기본]\n",
    "        - True  -> 원본으로 작업 진행, None반환"
   ]
  },
  {
   "cell_type": "code",
   "execution_count": 1,
   "id": "77a20b89",
   "metadata": {},
   "outputs": [],
   "source": [
    "## 모듈 로딩\n",
    "import pandas as pd"
   ]
  },
  {
   "cell_type": "code",
   "execution_count": 2,
   "id": "19ea7801",
   "metadata": {},
   "outputs": [
    {
     "data": {
      "text/html": [
       "<div>\n",
       "<style scoped>\n",
       "    .dataframe tbody tr th:only-of-type {\n",
       "        vertical-align: middle;\n",
       "    }\n",
       "\n",
       "    .dataframe tbody tr th {\n",
       "        vertical-align: top;\n",
       "    }\n",
       "\n",
       "    .dataframe thead th {\n",
       "        text-align: right;\n",
       "    }\n",
       "</style>\n",
       "<table border=\"1\" class=\"dataframe\">\n",
       "  <thead>\n",
       "    <tr style=\"text-align: right;\">\n",
       "      <th></th>\n",
       "      <th>id</th>\n",
       "      <th>value1</th>\n",
       "      <th>value2</th>\n",
       "    </tr>\n",
       "  </thead>\n",
       "  <tbody>\n",
       "    <tr>\n",
       "      <th>0</th>\n",
       "      <td>1</td>\n",
       "      <td>20</td>\n",
       "      <td>3.40</td>\n",
       "    </tr>\n",
       "    <tr>\n",
       "      <th>1</th>\n",
       "      <td>2</td>\n",
       "      <td>12</td>\n",
       "      <td>2.10</td>\n",
       "    </tr>\n",
       "    <tr>\n",
       "      <th>2</th>\n",
       "      <td>3</td>\n",
       "      <td>11</td>\n",
       "      <td>9.70</td>\n",
       "    </tr>\n",
       "    <tr>\n",
       "      <th>3</th>\n",
       "      <td>4</td>\n",
       "      <td>9</td>\n",
       "      <td>0.12</td>\n",
       "    </tr>\n",
       "    <tr>\n",
       "      <th>4</th>\n",
       "      <td>5</td>\n",
       "      <td>31</td>\n",
       "      <td>9.99</td>\n",
       "    </tr>\n",
       "  </tbody>\n",
       "</table>\n",
       "</div>"
      ],
      "text/plain": [
       "   id  value1  value2\n",
       "0   1      20    3.40\n",
       "1   2      12    2.10\n",
       "2   3      11    9.70\n",
       "3   4       9    0.12\n",
       "4   5      31    9.99"
      ]
     },
     "metadata": {},
     "output_type": "display_data"
    }
   ],
   "source": [
    "## 데이터 준비\n",
    "dataDF = pd.read_json('../Data/test.json')\n",
    "\n",
    "display(dataDF)"
   ]
  },
  {
   "cell_type": "markdown",
   "id": "ebb7c20a",
   "metadata": {},
   "source": [
    "[실습문제]\n",
    "<hr>"
   ]
  },
  {
   "cell_type": "code",
   "execution_count": 5,
   "id": "333d5f00",
   "metadata": {},
   "outputs": [
    {
     "data": {
      "text/html": [
       "<div>\n",
       "<style scoped>\n",
       "    .dataframe tbody tr th:only-of-type {\n",
       "        vertical-align: middle;\n",
       "    }\n",
       "\n",
       "    .dataframe tbody tr th {\n",
       "        vertical-align: top;\n",
       "    }\n",
       "\n",
       "    .dataframe thead th {\n",
       "        text-align: right;\n",
       "    }\n",
       "</style>\n",
       "<table border=\"1\" class=\"dataframe\">\n",
       "  <thead>\n",
       "    <tr style=\"text-align: right;\">\n",
       "      <th></th>\n",
       "      <th>id</th>\n",
       "      <th>value1</th>\n",
       "      <th>value2</th>\n",
       "    </tr>\n",
       "  </thead>\n",
       "  <tbody>\n",
       "    <tr>\n",
       "      <th>하나</th>\n",
       "      <td>1</td>\n",
       "      <td>20</td>\n",
       "      <td>3.40</td>\n",
       "    </tr>\n",
       "    <tr>\n",
       "      <th>둘</th>\n",
       "      <td>2</td>\n",
       "      <td>12</td>\n",
       "      <td>2.10</td>\n",
       "    </tr>\n",
       "    <tr>\n",
       "      <th>셋</th>\n",
       "      <td>3</td>\n",
       "      <td>11</td>\n",
       "      <td>9.70</td>\n",
       "    </tr>\n",
       "    <tr>\n",
       "      <th>넷</th>\n",
       "      <td>4</td>\n",
       "      <td>9</td>\n",
       "      <td>0.12</td>\n",
       "    </tr>\n",
       "    <tr>\n",
       "      <th>다섯</th>\n",
       "      <td>5</td>\n",
       "      <td>31</td>\n",
       "      <td>9.99</td>\n",
       "    </tr>\n",
       "  </tbody>\n",
       "</table>\n",
       "</div>"
      ],
      "text/plain": [
       "    id  value1  value2\n",
       "하나   1      20    3.40\n",
       "둘    2      12    2.10\n",
       "셋    3      11    9.70\n",
       "넷    4       9    0.12\n",
       "다섯   5      31    9.99"
      ]
     },
     "metadata": {},
     "output_type": "display_data"
    }
   ],
   "source": [
    "## [1] 행인덱스를 변경\n",
    "## [0,1,2,3,4] ====> ['하나', '둘', '셋', '넷', '다섯']\n",
    "dataDF.index = ['하나','둘','셋','넷','다섯']\n",
    "\n",
    "display(dataDF)"
   ]
  },
  {
   "cell_type": "code",
   "execution_count": null,
   "id": "1b2f1dea",
   "metadata": {},
   "outputs": [
    {
     "data": {
      "text/html": [
       "<div>\n",
       "<style scoped>\n",
       "    .dataframe tbody tr th:only-of-type {\n",
       "        vertical-align: middle;\n",
       "    }\n",
       "\n",
       "    .dataframe tbody tr th {\n",
       "        vertical-align: top;\n",
       "    }\n",
       "\n",
       "    .dataframe thead th {\n",
       "        text-align: right;\n",
       "    }\n",
       "</style>\n",
       "<table border=\"1\" class=\"dataframe\">\n",
       "  <thead>\n",
       "    <tr style=\"text-align: right;\">\n",
       "      <th></th>\n",
       "      <th>id</th>\n",
       "      <th>v1</th>\n",
       "      <th>v2</th>\n",
       "    </tr>\n",
       "  </thead>\n",
       "  <tbody>\n",
       "    <tr>\n",
       "      <th>하나</th>\n",
       "      <td>1</td>\n",
       "      <td>20</td>\n",
       "      <td>3.40</td>\n",
       "    </tr>\n",
       "    <tr>\n",
       "      <th>둘</th>\n",
       "      <td>2</td>\n",
       "      <td>12</td>\n",
       "      <td>2.10</td>\n",
       "    </tr>\n",
       "    <tr>\n",
       "      <th>셋</th>\n",
       "      <td>3</td>\n",
       "      <td>11</td>\n",
       "      <td>9.70</td>\n",
       "    </tr>\n",
       "    <tr>\n",
       "      <th>넷</th>\n",
       "      <td>4</td>\n",
       "      <td>9</td>\n",
       "      <td>0.12</td>\n",
       "    </tr>\n",
       "    <tr>\n",
       "      <th>다섯</th>\n",
       "      <td>5</td>\n",
       "      <td>31</td>\n",
       "      <td>9.99</td>\n",
       "    </tr>\n",
       "  </tbody>\n",
       "</table>\n",
       "</div>"
      ],
      "text/plain": [
       "    id  v1    v2\n",
       "하나   1  20  3.40\n",
       "둘    2  12  2.10\n",
       "셋    3  11  9.70\n",
       "넷    4   9  0.12\n",
       "다섯   5  31  9.99"
      ]
     },
     "metadata": {},
     "output_type": "display_data"
    }
   ],
   "source": [
    "## [2] 컬럼 변경\n",
    "## 'id', 'value1', 'value2' ====> 'id', 'v1', 'v2'\n",
    "dataDF.columns = ['id','v1','v2']\n",
    "\n",
    "display(dataDF)"
   ]
  },
  {
   "cell_type": "code",
   "execution_count": 18,
   "id": "d6fb9c12",
   "metadata": {},
   "outputs": [
    {
     "data": {
      "text/html": [
       "<div>\n",
       "<style scoped>\n",
       "    .dataframe tbody tr th:only-of-type {\n",
       "        vertical-align: middle;\n",
       "    }\n",
       "\n",
       "    .dataframe tbody tr th {\n",
       "        vertical-align: top;\n",
       "    }\n",
       "\n",
       "    .dataframe thead th {\n",
       "        text-align: right;\n",
       "    }\n",
       "</style>\n",
       "<table border=\"1\" class=\"dataframe\">\n",
       "  <thead>\n",
       "    <tr style=\"text-align: right;\">\n",
       "      <th></th>\n",
       "      <th>id</th>\n",
       "      <th>v1</th>\n",
       "      <th>v2</th>\n",
       "    </tr>\n",
       "  </thead>\n",
       "  <tbody>\n",
       "    <tr>\n",
       "      <th>하나</th>\n",
       "      <td>1</td>\n",
       "      <td>20</td>\n",
       "      <td>3.40</td>\n",
       "    </tr>\n",
       "    <tr>\n",
       "      <th>셋</th>\n",
       "      <td>3</td>\n",
       "      <td>11</td>\n",
       "      <td>9.70</td>\n",
       "    </tr>\n",
       "    <tr>\n",
       "      <th>다섯</th>\n",
       "      <td>5</td>\n",
       "      <td>31</td>\n",
       "      <td>9.99</td>\n",
       "    </tr>\n",
       "  </tbody>\n",
       "</table>\n",
       "</div>"
      ],
      "text/plain": [
       "    id  v1    v2\n",
       "하나   1  20  3.40\n",
       "셋    3  11  9.70\n",
       "다섯   5  31  9.99"
      ]
     },
     "metadata": {},
     "output_type": "display_data"
    }
   ],
   "source": [
    "## [3] 행 둘 넷 삭제/ 단, 원본 손실 x\n",
    "dataDF1 = dataDF.drop(index=['둘','넷'])\n",
    "\n",
    "display(dataDF1)"
   ]
  },
  {
   "cell_type": "code",
   "execution_count": null,
   "id": "7ee84151",
   "metadata": {},
   "outputs": [],
   "source": [
    "## [4] 아래와 같은 결과가 나오도록 코드 작성하세요.\n",
    "\n",
    "# id\tvalue1\tvalue2\n",
    "# 0\t1\t20\t3.40\n",
    "# 1\t2\t12\t2.10\n",
    "# 2\t3\t11\t9.70\n",
    "# 3\t4\t9\t0.12\n",
    "# 4\t5\t31\t9.99\n",
    "\n",
    "\n",
    "#  ID\tDATA\n",
    "# A\t1\t3.40\n",
    "# B\t3\t9.70\n",
    "# C\t5\t9.99"
   ]
  },
  {
   "cell_type": "code",
   "execution_count": 19,
   "id": "8005735c",
   "metadata": {},
   "outputs": [
    {
     "data": {
      "text/html": [
       "<div>\n",
       "<style scoped>\n",
       "    .dataframe tbody tr th:only-of-type {\n",
       "        vertical-align: middle;\n",
       "    }\n",
       "\n",
       "    .dataframe tbody tr th {\n",
       "        vertical-align: top;\n",
       "    }\n",
       "\n",
       "    .dataframe thead th {\n",
       "        text-align: right;\n",
       "    }\n",
       "</style>\n",
       "<table border=\"1\" class=\"dataframe\">\n",
       "  <thead>\n",
       "    <tr style=\"text-align: right;\">\n",
       "      <th></th>\n",
       "      <th>ID</th>\n",
       "      <th>DATA</th>\n",
       "    </tr>\n",
       "  </thead>\n",
       "  <tbody>\n",
       "    <tr>\n",
       "      <th>A</th>\n",
       "      <td>1</td>\n",
       "      <td>3.40</td>\n",
       "    </tr>\n",
       "    <tr>\n",
       "      <th>B</th>\n",
       "      <td>3</td>\n",
       "      <td>9.70</td>\n",
       "    </tr>\n",
       "    <tr>\n",
       "      <th>C</th>\n",
       "      <td>5</td>\n",
       "      <td>9.99</td>\n",
       "    </tr>\n",
       "  </tbody>\n",
       "</table>\n",
       "</div>"
      ],
      "text/plain": [
       "   ID  DATA\n",
       "A   1  3.40\n",
       "B   3  9.70\n",
       "C   5  9.99"
      ]
     },
     "metadata": {},
     "output_type": "display_data"
    }
   ],
   "source": [
    "dataDF1.drop(columns=['v1'], inplace=True)\n",
    "\n",
    "dataDF1.columns=['ID', 'DATA']\n",
    "dataDF1.index = ['A','B','C']\n",
    "\n",
    "display(dataDF1)"
   ]
  }
 ],
 "metadata": {
  "kernelspec": {
   "display_name": "DATA_311",
   "language": "python",
   "name": "python3"
  },
  "language_info": {
   "codemirror_mode": {
    "name": "ipython",
    "version": 3
   },
   "file_extension": ".py",
   "mimetype": "text/x-python",
   "name": "python",
   "nbconvert_exporter": "python",
   "pygments_lexer": "ipython3",
   "version": "3.11.13"
  }
 },
 "nbformat": 4,
 "nbformat_minor": 5
}
