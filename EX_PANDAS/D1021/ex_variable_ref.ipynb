{
 "cells": [
  {
   "cell_type": "markdown",
   "id": "8dc31816",
   "metadata": {},
   "source": [
    "## [ 파이썬에서 변수와 참조 ]\n",
    "- 데이터 저장 문접 : 변수명 = 데이터\n",
    "- 데이터 저장 의미\n",
    "    * 힙메모리 영역에 저장된 데이터(객체)의 주소를 저장\n",
    "    * 스택메모리 영역에 변수명 존재함 => 참조형 변수(reference variable)"
   ]
  },
  {
   "cell_type": "markdown",
   "id": "3d4fda49",
   "metadata": {},
   "source": [
    "[ 단일 데이터 ] \n",
    "<hr>"
   ]
  },
  {
   "cell_type": "code",
   "execution_count": 5,
   "id": "35d79cfa",
   "metadata": {},
   "outputs": [
    {
     "data": {
      "text/plain": [
       "140723954897992"
      ]
     },
     "metadata": {},
     "output_type": "display_data"
    },
    {
     "data": {
      "text/plain": [
       "140723954897992"
      ]
     },
     "metadata": {},
     "output_type": "display_data"
    },
    {
     "data": {
      "text/plain": [
       "140723954897992"
      ]
     },
     "metadata": {},
     "output_type": "display_data"
    }
   ],
   "source": [
    "a = 10  ## int형 인스턴스 10의 주소를 변수a에 저장\n",
    "b = 10  ## int형 인스턴스 10의 주소를 변수b에 저장\n",
    "c = a   ## int형 인스턴스 10의 주소를 변수b에 저장\n",
    "display(id(a),id(b), id(c)) ## 주소값 같음"
   ]
  },
  {
   "cell_type": "code",
   "execution_count": 7,
   "id": "a448972f",
   "metadata": {},
   "outputs": [
    {
     "data": {
      "text/plain": [
       "140723954897992"
      ]
     },
     "metadata": {},
     "output_type": "display_data"
    },
    {
     "data": {
      "text/plain": [
       "140723954897832"
      ]
     },
     "metadata": {},
     "output_type": "display_data"
    }
   ],
   "source": [
    "a = 5\n",
    "b = a\n",
    "a += 5\n",
    "\n",
    "display(id(a), id(b))"
   ]
  },
  {
   "cell_type": "code",
   "execution_count": null,
   "id": "30c14d9f",
   "metadata": {},
   "outputs": [
    {
     "name": "stdout",
     "output_type": "stream",
     "text": [
      "id(datas) 1858531142400\n",
      "id(a) 1858531142400\n",
      "----------------------\n",
      "id(datas[0]) 140723954898024\n",
      "id(datas[1]) 140723954898376\n",
      "id(a[0]) 140723954898024\n",
      "id(a[1]) 140723954898376\n",
      "[44, 22, 33]\n",
      "[44, 22, 33]\n"
     ]
    }
   ],
   "source": [
    "datas = [11, 22, 33]\n",
    "a = datas\n",
    "\n",
    "print('id(datas)', id(datas))\n",
    "print('id(a)', id(a)) \n",
    "print(\"----------------------\")\n",
    "print('id(datas[0])', id(datas[0]))\n",
    "print('id(datas[1])', id(datas[1]))\n",
    "print('id(a[0])', id(a[0]))\n",
    "print('id(a[1])', id(a[1]))\n",
    "\n",
    "\n",
    "datas[0]= 44\n",
    "print(datas,a,sep=\"\\n\")\n",
    "\n",
    "\n"
   ]
  }
 ],
 "metadata": {
  "kernelspec": {
   "display_name": "DATA_311",
   "language": "python",
   "name": "python3"
  },
  "language_info": {
   "codemirror_mode": {
    "name": "ipython",
    "version": 3
   },
   "file_extension": ".py",
   "mimetype": "text/x-python",
   "name": "python",
   "nbconvert_exporter": "python",
   "pygments_lexer": "ipython3",
   "version": "3.11.13"
  }
 },
 "nbformat": 4,
 "nbformat_minor": 5
}
