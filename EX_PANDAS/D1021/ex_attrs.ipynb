{
 "cells": [
  {
   "cell_type": "markdown",
   "id": "c42eb82c",
   "metadata": {},
   "source": [
    "[읽기/변경 가능한 속성들]\n",
    "<hr>\n"
   ]
  },
  {
   "cell_type": "code",
   "execution_count": 1,
   "id": "c4c5d1f3",
   "metadata": {},
   "outputs": [],
   "source": [
    "## 모듈 로딩\n",
    "import pandas as pd"
   ]
  },
  {
   "cell_type": "code",
   "execution_count": 5,
   "id": "98ff0096",
   "metadata": {},
   "outputs": [
    {
     "name": "stdout",
     "output_type": "stream",
     "text": [
      "a     10\n",
      "b      9\n",
      "c    200\n",
      "dtype: int64\n",
      "Index(['a', 'b', 'c'], dtype='object')\n"
     ]
    }
   ],
   "source": [
    "## 임의의 데이터\n",
    "data_dict = {'a': 10, 'b':9, \"c\":200}\n",
    "\n",
    "## 시리즈 인스턴스 생성\n",
    "dataSR = pd.Series(data_dict)\n",
    "\n",
    "##출력\n",
    "print(dataSR)\n",
    "print(dataSR.index)"
   ]
  },
  {
   "cell_type": "code",
   "execution_count": 8,
   "id": "ffa7ef75",
   "metadata": {},
   "outputs": [
    {
     "data": {
      "text/plain": [
       "하나     10\n",
       "둘       9\n",
       "셋     200\n",
       "dtype: int64"
      ]
     },
     "execution_count": 8,
     "metadata": {},
     "output_type": "execute_result"
    }
   ],
   "source": [
    "## index속성 변경\n",
    "## 하나 둘 셋으로 변경\n",
    "dataSR.index = ['하나','둘','셋']\n",
    "dataSR"
   ]
  },
  {
   "cell_type": "code",
   "execution_count": null,
   "id": "fe1862ff",
   "metadata": {},
   "outputs": [],
   "source": [
    "## name 속성 변경\n",
    "## 현재 name 속성 확인\n",
    "print(\"현재\" : dataSR.name)"
   ]
  }
 ],
 "metadata": {
  "kernelspec": {
   "display_name": "DATA_311",
   "language": "python",
   "name": "python3"
  },
  "language_info": {
   "codemirror_mode": {
    "name": "ipython",
    "version": 3
   },
   "file_extension": ".py",
   "mimetype": "text/x-python",
   "name": "python",
   "nbconvert_exporter": "python",
   "pygments_lexer": "ipython3",
   "version": "3.11.13"
  }
 },
 "nbformat": 4,
 "nbformat_minor": 5
}
