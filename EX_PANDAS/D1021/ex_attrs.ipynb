{
 "cells": [
  {
   "cell_type": "markdown",
   "id": "c42eb82c",
   "metadata": {},
   "source": [
    "[읽기/변경 가능한 속성들]\n",
    "<hr>\n"
   ]
  },
  {
   "cell_type": "code",
   "execution_count": 1,
   "id": "c4c5d1f3",
   "metadata": {},
   "outputs": [],
   "source": [
    "## 모듈 로딩\n",
    "import pandas as pd"
   ]
  },
  {
   "cell_type": "code",
   "execution_count": 5,
   "id": "98ff0096",
   "metadata": {},
   "outputs": [
    {
     "name": "stdout",
     "output_type": "stream",
     "text": [
      "a     10\n",
      "b      9\n",
      "c    200\n",
      "dtype: int64\n",
      "Index(['a', 'b', 'c'], dtype='object')\n"
     ]
    }
   ],
   "source": [
    "## 임의의 데이터\n",
    "data_dict = {'a': 10, 'b':9, \"c\":200}\n",
    "\n",
    "## 시리즈 인스턴스 생성\n",
    "dataSR = pd.Series(data_dict)\n",
    "\n",
    "##출력\n",
    "print(dataSR)\n",
    "print(dataSR.index)"
   ]
  },
  {
   "cell_type": "markdown",
   "id": "355db956",
   "metadata": {},
   "source": [
    "[변경가능한 속성들/읽기쓰기 가능]\n",
    "<hr>"
   ]
  },
  {
   "cell_type": "code",
   "execution_count": 8,
   "id": "ffa7ef75",
   "metadata": {},
   "outputs": [
    {
     "data": {
      "text/plain": [
       "하나     10\n",
       "둘       9\n",
       "셋     200\n",
       "dtype: int64"
      ]
     },
     "execution_count": 8,
     "metadata": {},
     "output_type": "execute_result"
    }
   ],
   "source": [
    "## index속성 변경\n",
    "## 하나 둘 셋으로 변경\n",
    "dataSR.index = ['하나','둘','셋']\n",
    "dataSR"
   ]
  },
  {
   "cell_type": "code",
   "execution_count": 12,
   "id": "fe1862ff",
   "metadata": {},
   "outputs": [
    {
     "name": "stdout",
     "output_type": "stream",
     "text": [
      "현재 : None\n",
      "변경 : 점수\n"
     ]
    }
   ],
   "source": [
    "## name 속성 변경\n",
    "## 현재 name 속성 확인\n",
    "print(\"현재 :\", dataSR.name)\n",
    "\n",
    "## name 속성 설정\n",
    "dataSR.name = '점수'\n",
    "print(\"변경 :\", dataSR.name)"
   ]
  },
  {
   "cell_type": "markdown",
   "id": "afd79486",
   "metadata": {},
   "source": [
    "[변경 불가한 속성들/읽기만 가능] \n",
    "<hr>"
   ]
  },
  {
   "cell_type": "code",
   "execution_count": null,
   "id": "65083860",
   "metadata": {},
   "outputs": [
    {
     "name": "stdout",
     "output_type": "stream",
     "text": [
      "현재 : int64\n"
     ]
    }
   ],
   "source": [
    "## dtype 속성 변경\n",
    "## 현재 name 속성 확인\n",
    "print(\"현재 :\", dataSR.dtype)\n",
    "\n",
    "## name 속성 설정\n",
    "# dataSR.dtype = 'int8' ## ERROR, setter가 없음!! -> 변경 불가,읽기전용\n",
    "# print(\"변경 :\", dataSR.dtype)"
   ]
  },
  {
   "cell_type": "code",
   "execution_count": 20,
   "id": "52a4eaf0",
   "metadata": {},
   "outputs": [
    {
     "name": "stdout",
     "output_type": "stream",
     "text": [
      "현재 : [ 10   9 200]\n"
     ]
    }
   ],
   "source": [
    "## values 속성 변경\n",
    "## 현재 name 속성 확인\n",
    "print(\"현재 :\", dataSR.values)\n",
    "\n",
    "## name 속성 설정\n",
    "# dataSR.values = [0, 9 ,10] ## ERROR, setter가 없음!! -> 변경 불가,읽기전용\n",
    "# print(\"변경 :\", dataSR.values)"
   ]
  },
  {
   "cell_type": "markdown",
   "id": "a4fb3f28",
   "metadata": {},
   "source": [
    "[DataFrame의 속성 읽기/변경]\n",
    "<hr>\n"
   ]
  },
  {
   "cell_type": "code",
   "execution_count": 23,
   "id": "3a77b25c",
   "metadata": {},
   "outputs": [
    {
     "data": {
      "text/html": [
       "<div>\n",
       "<style scoped>\n",
       "    .dataframe tbody tr th:only-of-type {\n",
       "        vertical-align: middle;\n",
       "    }\n",
       "\n",
       "    .dataframe tbody tr th {\n",
       "        vertical-align: top;\n",
       "    }\n",
       "\n",
       "    .dataframe thead th {\n",
       "        text-align: right;\n",
       "    }\n",
       "</style>\n",
       "<table border=\"1\" class=\"dataframe\">\n",
       "  <thead>\n",
       "    <tr style=\"text-align: right;\">\n",
       "      <th></th>\n",
       "      <th>번호</th>\n",
       "      <th>이름</th>\n",
       "    </tr>\n",
       "  </thead>\n",
       "  <tbody>\n",
       "    <tr>\n",
       "      <th>0</th>\n",
       "      <td>1</td>\n",
       "      <td>홍</td>\n",
       "    </tr>\n",
       "    <tr>\n",
       "      <th>1</th>\n",
       "      <td>5</td>\n",
       "      <td>마</td>\n",
       "    </tr>\n",
       "    <tr>\n",
       "      <th>2</th>\n",
       "      <td>9</td>\n",
       "      <td>베</td>\n",
       "    </tr>\n",
       "  </tbody>\n",
       "</table>\n",
       "</div>"
      ],
      "text/plain": [
       "   번호 이름\n",
       "0   1  홍\n",
       "1   5  마\n",
       "2   9  베"
      ]
     },
     "metadata": {},
     "output_type": "display_data"
    },
    {
     "data": {
      "text/plain": [
       "Index(['번호', '이름'], dtype='object')"
      ]
     },
     "metadata": {},
     "output_type": "display_data"
    },
    {
     "data": {
      "text/plain": [
       "RangeIndex(start=0, stop=3, step=1)"
      ]
     },
     "metadata": {},
     "output_type": "display_data"
    }
   ],
   "source": [
    "## 데이터\n",
    "data_dict = {\n",
    "    '번호' : [1,5,9],\n",
    "    '이름' : ['홍','마','베']\n",
    "}\n",
    "## 데이터프레임 생성\n",
    "dataDF = pd.DataFrame(data_dict)\n",
    "\n",
    "## 출력\n",
    "display(dataDF, dataDF.columns, dataDF.index)"
   ]
  },
  {
   "cell_type": "code",
   "execution_count": 28,
   "id": "597ed0c5",
   "metadata": {},
   "outputs": [
    {
     "name": "stdout",
     "output_type": "stream",
     "text": [
      "현재 : RangeIndex(start=0, stop=3, step=1)\n",
      "변경 : Index(['사람1', '사람2', '사람3'], dtype='object')\n"
     ]
    }
   ],
   "source": [
    "## -------------------------------------\n",
    "## - index 변경\n",
    "## -------------------------------------\n",
    "print(f'현재 : {dataDF.index}')\n",
    "\n",
    "##변경 [0,1,2] -> 사람1, 사람2, 사람3\n",
    "dataDF.index= ['사람1', '사람2', '사람3']\n",
    "\n",
    "print(f'변경 : {dataDF.index}')"
   ]
  },
  {
   "cell_type": "code",
   "execution_count": null,
   "id": "8e9bf922",
   "metadata": {},
   "outputs": [
    {
     "name": "stdout",
     "output_type": "stream",
     "text": [
      "현재 : Index(['번호', '이름'], dtype='object')\n",
      "변경 : Index(['ID', 'NAME'], dtype='object')\n"
     ]
    }
   ],
   "source": [
    "## -------------------------------------\n",
    "## - columns 변경\n",
    "## -------------------------------------\n",
    "print(f'현재 : {dataDF.columns}')\n",
    "\n",
    "##변경['번호', '이름'] -> 사람1, 사람2, 사람3\n",
    "dataDF.columns= ['ID', 'NAME']\n",
    "\n",
    "print(f'변경 : {dataDF.columns}')"
   ]
  }
 ],
 "metadata": {
  "kernelspec": {
   "display_name": "DATA_311",
   "language": "python",
   "name": "python3"
  },
  "language_info": {
   "codemirror_mode": {
    "name": "ipython",
    "version": 3
   },
   "file_extension": ".py",
   "mimetype": "text/x-python",
   "name": "python",
   "nbconvert_exporter": "python",
   "pygments_lexer": "ipython3",
   "version": "3.11.13"
  }
 },
 "nbformat": 4,
 "nbformat_minor": 5
}
