{
 "cells": [
  {
   "cell_type": "markdown",
   "id": "c88ab905",
   "metadata": {},
   "source": [
    "### [ 행인덱스/열이름 부분 변경 ]\n",
    "- Series / DataFrame에서 행 인덱스, 열이름 부분변경 지원\n",
    "- 속성명 변경 => 전체 변경. 일부 변경 x\n",
    "- 메서드 : rename( index , colunms, ... , inplace )\n",
    "    * 행 인덱스 변경 시 => index 매개변수 사용\n",
    "    * 열 이름 변경시 => columns 매개변수 사용\n",
    "    * 원본 변경 여부 => inplace 매배변수 사용\n",
    "    * 반환값 => None or DataFrame"
   ]
  },
  {
   "cell_type": "markdown",
   "id": "c42eb82c",
   "metadata": {},
   "source": [
    "[Series의 행인덱스 부분 변경]\n",
    "<hr>\n"
   ]
  },
  {
   "cell_type": "code",
   "execution_count": 1,
   "id": "c4c5d1f3",
   "metadata": {},
   "outputs": [],
   "source": [
    "## 모듈 로딩\n",
    "import pandas as pd"
   ]
  },
  {
   "cell_type": "code",
   "execution_count": 2,
   "id": "98ff0096",
   "metadata": {},
   "outputs": [
    {
     "name": "stdout",
     "output_type": "stream",
     "text": [
      "a     10\n",
      "b      9\n",
      "c    200\n",
      "dtype: int64\n",
      "Index(['a', 'b', 'c'], dtype='object')\n"
     ]
    }
   ],
   "source": [
    "## 임의의 데이터\n",
    "data_dict = {'a': 10, 'b':9, \"c\":200}\n",
    "\n",
    "## 시리즈 인스턴스 생성\n",
    "dataSR = pd.Series(data_dict)\n",
    "\n",
    "##출력\n",
    "print(dataSR)\n",
    "print(dataSR.index)"
   ]
  },
  {
   "cell_type": "markdown",
   "id": "355db956",
   "metadata": {},
   "source": [
    "[변경가능한 속성들/읽기쓰기 가능]\n",
    "<hr>"
   ]
  },
  {
   "cell_type": "code",
   "execution_count": 4,
   "id": "ffa7ef75",
   "metadata": {},
   "outputs": [
    {
     "data": {
      "text/plain": [
       "하나     10\n",
       "둘       9\n",
       "셋     200\n",
       "dtype: int64"
      ]
     },
     "execution_count": 4,
     "metadata": {},
     "output_type": "execute_result"
    }
   ],
   "source": [
    "## ----------------------------------------------\n",
    "## index속성 변경 : 전체 변경\n",
    "## ----------------------------------------------\n",
    "## 하나 둘 셋으로 변경\n",
    "dataSR.index = ['하나','둘','셋']\n",
    "dataSR"
   ]
  },
  {
   "cell_type": "code",
   "execution_count": null,
   "id": "fe1862ff",
   "metadata": {},
   "outputs": [
    {
     "data": {
      "text/plain": [
       "하나     10\n",
       "둘       9\n",
       "셋     200\n",
       "dtype: int64"
      ]
     },
     "metadata": {},
     "output_type": "display_data"
    },
    {
     "data": {
      "text/plain": [
       "ONE       10\n",
       "둘          9\n",
       "THREE    200\n",
       "dtype: int64"
      ]
     },
     "metadata": {},
     "output_type": "display_data"
    },
    {
     "data": {
      "text/plain": [
       "ONE       10\n",
       "222        9\n",
       "THREE    200\n",
       "dtype: int64"
      ]
     },
     "metadata": {},
     "output_type": "display_data"
    },
    {
     "data": {
      "text/plain": [
       "None"
      ]
     },
     "metadata": {},
     "output_type": "display_data"
    }
   ],
   "source": [
    "## ----------------------------------------------\n",
    "## index속성 변경 : 일부/부분 변경\n",
    "## ----------------------------------------------\n",
    "\n",
    "## 하나 -> one으로 변경\n",
    "# dataSR.index = ['하나','둘']  ## ERROR, 개수 불일치!\n",
    "\n",
    "## rename() 메서드\n",
    "dataSR1 = dataSR.rename(index={'하나': 'ONE', '셋' : \"THREE\"}) ## inplace가 false(기본값) : 복사본 반환\n",
    "display(dataSR, dataSR1)\n",
    "\n",
    "## 원본 변경 : 반환 값 없음(None)\n",
    "dataSR11 = dataSR1.rename(index={'둘': '222'}, inplace=True)\n",
    "display(dataSR1, dataSR11)"
   ]
  }
 ],
 "metadata": {
  "kernelspec": {
   "display_name": "DATA_311",
   "language": "python",
   "name": "python3"
  },
  "language_info": {
   "codemirror_mode": {
    "name": "ipython",
    "version": 3
   },
   "file_extension": ".py",
   "mimetype": "text/x-python",
   "name": "python",
   "nbconvert_exporter": "python",
   "pygments_lexer": "ipython3",
   "version": "3.11.13"
  }
 },
 "nbformat": 4,
 "nbformat_minor": 5
}
