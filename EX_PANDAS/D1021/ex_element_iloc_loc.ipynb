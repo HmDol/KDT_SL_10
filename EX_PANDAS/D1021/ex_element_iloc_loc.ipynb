{
 "cells": [
  {
   "cell_type": "markdown",
   "id": "8dc31816",
   "metadata": {},
   "source": [
    "## [ 속성 .iloc[] / .loc[] ]\n",
    "- .iloc[] : 위치기반 인덱스만 사용 가능\n",
    "- .loc[] : 라벨/네임 인덱스만 사용 가능"
   ]
  },
  {
   "cell_type": "markdown",
   "id": "3d4fda49",
   "metadata": {},
   "source": [
    "[ 설정 인덱스가 숫자인 경우 ] \n",
    "<hr>"
   ]
  },
  {
   "cell_type": "code",
   "execution_count": 7,
   "id": "35d79cfa",
   "metadata": {},
   "outputs": [
    {
     "data": {
      "text/plain": [
       "1    99\n",
       "2    78\n",
       "dtype: int64"
      ]
     },
     "metadata": {},
     "output_type": "display_data"
    },
    {
     "name": "stdout",
     "output_type": "stream",
     "text": [
      "1번 원소 선택\n"
     ]
    },
    {
     "data": {
      "text/plain": [
       "np.int64(99)"
      ]
     },
     "metadata": {},
     "output_type": "display_data"
    },
    {
     "data": {
      "text/plain": [
       "np.int64(99)"
      ]
     },
     "metadata": {},
     "output_type": "display_data"
    },
    {
     "data": {
      "text/plain": [
       "np.int64(99)"
      ]
     },
     "metadata": {},
     "output_type": "display_data"
    }
   ],
   "source": [
    "import pandas as pd\n",
    "\n",
    "sr = pd.Series([99, 78], index = [1,2])\n",
    "display(sr)\n",
    "\n",
    "print(\"1번 원소 선택\")\n",
    "display(sr[1], sr.loc[1], sr.iloc[0]) "
   ]
  },
  {
   "cell_type": "markdown",
   "id": "a448972f",
   "metadata": {},
   "source": [
    "[설정 인덱스가 글자인 경우]\n",
    "<hr>"
   ]
  },
  {
   "cell_type": "code",
   "execution_count": 9,
   "id": "30c14d9f",
   "metadata": {},
   "outputs": [
    {
     "data": {
      "text/plain": [
       "a    99\n",
       "b    78\n",
       "dtype: int64"
      ]
     },
     "metadata": {},
     "output_type": "display_data"
    },
    {
     "name": "stdout",
     "output_type": "stream",
     "text": [
      "1번 원소 선택\n"
     ]
    },
    {
     "data": {
      "text/plain": [
       "np.int64(99)"
      ]
     },
     "metadata": {},
     "output_type": "display_data"
    },
    {
     "data": {
      "text/plain": [
       "np.int64(99)"
      ]
     },
     "metadata": {},
     "output_type": "display_data"
    },
    {
     "data": {
      "text/plain": [
       "np.int64(99)"
      ]
     },
     "metadata": {},
     "output_type": "display_data"
    }
   ],
   "source": [
    "sr = pd.Series([99, 78], index = ['a','b'])\n",
    "display(sr)\n",
    "\n",
    "print(\"1번 원소 선택\")\n",
    "display(sr['a'], sr.loc['a'], sr.iloc[0]) \n",
    "\n"
   ]
  }
 ],
 "metadata": {
  "kernelspec": {
   "display_name": "DATA_311",
   "language": "python",
   "name": "python3"
  },
  "language_info": {
   "codemirror_mode": {
    "name": "ipython",
    "version": 3
   },
   "file_extension": ".py",
   "mimetype": "text/x-python",
   "name": "python",
   "nbconvert_exporter": "python",
   "pygments_lexer": "ipython3",
   "version": "3.11.13"
  }
 },
 "nbformat": 4,
 "nbformat_minor": 5
}
