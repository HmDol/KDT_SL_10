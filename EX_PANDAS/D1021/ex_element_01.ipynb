{
 "cells": [
  {
   "cell_type": "markdown",
   "id": "c88ab905",
   "metadata": {},
   "source": [
    "### [ 행/열/원소 선택 ]\n",
    "- Series => 원소 삭제\n",
    "- DataFrame => 행, 열, 원소 선택\n",
    "\n",
    "- 속성 : 정수/위치 인덱스, 라벨 인덱스 or 인덱스 라벨\n",
    "    * 객체변수명[인덱스] => 객체변수명.iloc[정수인덱스], 객체변수명.loc[라벨인덱스]\n",
    "    "
   ]
  },
  {
   "cell_type": "markdown",
   "id": "c42eb82c",
   "metadata": {},
   "source": [
    "[Series 원소 선택]\n",
    "<hr>\n"
   ]
  },
  {
   "cell_type": "code",
   "execution_count": 4,
   "id": "c4c5d1f3",
   "metadata": {},
   "outputs": [
    {
     "name": "stdout",
     "output_type": "stream",
     "text": [
      "2.3.3\n"
     ]
    }
   ],
   "source": [
    "## 모듈 로딩\n",
    "import pandas as pd\n",
    "print(pd.__version__)"
   ]
  },
  {
   "cell_type": "code",
   "execution_count": 5,
   "id": "98ff0096",
   "metadata": {},
   "outputs": [
    {
     "data": {
      "text/plain": [
       "a     10\n",
       "b      9\n",
       "c    200\n",
       "d     77\n",
       "e     80\n",
       "f    333\n",
       "dtype: int64"
      ]
     },
     "metadata": {},
     "output_type": "display_data"
    },
    {
     "data": {
      "text/plain": [
       "Index(['a', 'b', 'c', 'd', 'e', 'f'], dtype='object')"
      ]
     },
     "metadata": {},
     "output_type": "display_data"
    }
   ],
   "source": [
    "## 임의의 데이터\n",
    "data_dict = {'a': 10, 'b':9, \"c\":200, \"d\" : 77, \"e\":80, 'f':333}\n",
    "\n",
    "## 시리즈 인스턴스 생성\n",
    "dataSR = pd.Series(data_dict)\n",
    "\n",
    "##출력\n",
    "display(dataSR,dataSR.index)"
   ]
  },
  {
   "cell_type": "code",
   "execution_count": 6,
   "id": "857f962a",
   "metadata": {},
   "outputs": [
    {
     "data": {
      "text/plain": [
       "'one_data'"
      ]
     },
     "metadata": {},
     "output_type": "display_data"
    },
    {
     "data": {
      "text/plain": [
       "np.int64(10)"
      ]
     },
     "metadata": {},
     "output_type": "display_data"
    },
    {
     "data": {
      "text/plain": [
       "numpy.int64"
      ]
     },
     "metadata": {},
     "output_type": "display_data"
    },
    {
     "name": "stdout",
     "output_type": "stream",
     "text": [
      "========================================\n"
     ]
    },
    {
     "data": {
      "text/plain": [
       "'one_data'"
      ]
     },
     "metadata": {},
     "output_type": "display_data"
    },
    {
     "data": {
      "text/plain": [
       "np.int64(10)"
      ]
     },
     "metadata": {},
     "output_type": "display_data"
    },
    {
     "data": {
      "text/plain": [
       "numpy.int64"
      ]
     },
     "metadata": {},
     "output_type": "display_data"
    },
    {
     "name": "stdout",
     "output_type": "stream",
     "text": [
      "========================================\n",
      "Index(['a', 'b', 'c', 'd', 'e', 'f'], dtype='object')\n"
     ]
    },
    {
     "data": {
      "text/plain": [
       "'one_data'"
      ]
     },
     "metadata": {},
     "output_type": "display_data"
    },
    {
     "data": {
      "text/plain": [
       "np.int64(10)"
      ]
     },
     "metadata": {},
     "output_type": "display_data"
    },
    {
     "data": {
      "text/plain": [
       "numpy.int64"
      ]
     },
     "metadata": {},
     "output_type": "display_data"
    }
   ],
   "source": [
    "## ----------------------------------------------\n",
    "## 원소 1개 선택 => Series변수명[인덱스]\n",
    "## ----------------------------------------------\n",
    "## -> 'a'원소 1개 선택\n",
    "one_data = dataSR['a']\n",
    "display('one_data', one_data, type(one_data))\n",
    "\n",
    "print(\"=\"*40)\n",
    "\n",
    "## ----------------------------------------------\n",
    "## 원소 1개 선택 => Series변수명.loc[인덱스]\n",
    "## ----------------------------------------------\n",
    "one_data = dataSR.loc['a']\n",
    "display('one_data', one_data, type(one_data))\n",
    "\n",
    "print(\"=\"*40)\n",
    "\n",
    "## ----------------------------------------------\n",
    "## 원소 1개 선택 => Series변수명.iloc[정수 인덱스]\n",
    "## ----------------------------------------------\n",
    "print(dataSR.index) ## 인덱스 번호 봐야됨\n",
    "\n",
    "one_data = dataSR.iloc[0]\n",
    "display('one_data', one_data, type(one_data))\n"
   ]
  },
  {
   "cell_type": "code",
   "execution_count": 7,
   "id": "dcc3d762",
   "metadata": {},
   "outputs": [
    {
     "data": {
      "text/plain": [
       "0     10\n",
       "1      9\n",
       "2    200\n",
       "3     77\n",
       "4     80\n",
       "5    333\n",
       "dtype: int64"
      ]
     },
     "metadata": {},
     "output_type": "display_data"
    },
    {
     "name": "stdout",
     "output_type": "stream",
     "text": [
      "200 9 200\n"
     ]
    }
   ],
   "source": [
    "## 현재 인덱스는 object타입의 라벨 인덱스 + [기]정수 인덱스\n",
    "## 변경 인덱스르 int타입의 정수 인덱스\n",
    "# dataSR.index=[11,12,13,14,15,16]\n",
    "dataSR.index=[0,1,2,3,4,5]\n",
    "\n",
    "display(dataSR)\n",
    "\n",
    "##-> 원소 선택 읽기\n",
    "# print(dataSR[12], dataSR.iloc[1], dataSR.loc[12])\n",
    "print(dataSR[2], dataSR.iloc[1], dataSR.loc[2])\n"
   ]
  },
  {
   "cell_type": "code",
   "execution_count": 8,
   "id": "8243b8fb",
   "metadata": {},
   "outputs": [
    {
     "data": {
      "text/plain": [
       "0     10\n",
       "3     77\n",
       "5    333\n",
       "dtype: int64"
      ]
     },
     "metadata": {},
     "output_type": "display_data"
    },
    {
     "data": {
      "text/plain": [
       "pandas.core.series.Series"
      ]
     },
     "metadata": {},
     "output_type": "display_data"
    },
    {
     "data": {
      "text/plain": [
       "0     10\n",
       "3     77\n",
       "5    333\n",
       "dtype: int64"
      ]
     },
     "metadata": {},
     "output_type": "display_data"
    },
    {
     "data": {
      "text/plain": [
       "pandas.core.series.Series"
      ]
     },
     "metadata": {},
     "output_type": "display_data"
    },
    {
     "data": {
      "text/plain": [
       "0     10\n",
       "3     77\n",
       "5    333\n",
       "dtype: int64"
      ]
     },
     "metadata": {},
     "output_type": "display_data"
    },
    {
     "data": {
      "text/plain": [
       "pandas.core.series.Series"
      ]
     },
     "metadata": {},
     "output_type": "display_data"
    }
   ],
   "source": [
    "## ----------------------------------------------\n",
    "## 원소 여러 개 선택 => Series변수명[[인덱스1, 인덱스2 ...]]\n",
    "##                    Series변수명.iloc[[인덱스1, 인덱스2 ...]]\n",
    "##                    Series변수명.loc[[인덱스1, 인덱스2 ...]]\n",
    "## ----------------------------------------------\n",
    "## -> 0번, 3번, 5번 3개 선택\n",
    "ret = dataSR[[0,3,5]]\n",
    "ret2 = dataSR.iloc[[0,3,5]]\n",
    "ret3 = dataSR.loc[[0,3,5]]\n",
    "\n",
    "display(ret, type(ret))\n",
    "display(ret2, type(ret2))\n",
    "display(ret3, type(ret3))\n"
   ]
  },
  {
   "cell_type": "code",
   "execution_count": 9,
   "id": "a8bf8adf",
   "metadata": {},
   "outputs": [
    {
     "name": "stdout",
     "output_type": "stream",
     "text": [
      "========= 0번, 2번, 4번 3개 선택 ==============\n"
     ]
    },
    {
     "data": {
      "text/plain": [
       "0     10\n",
       "2    200\n",
       "4     80\n",
       "dtype: int64"
      ]
     },
     "metadata": {},
     "output_type": "display_data"
    },
    {
     "data": {
      "text/plain": [
       "pandas.core.series.Series"
      ]
     },
     "metadata": {},
     "output_type": "display_data"
    },
    {
     "data": {
      "text/plain": [
       "0     10\n",
       "2    200\n",
       "4     80\n",
       "dtype: int64"
      ]
     },
     "metadata": {},
     "output_type": "display_data"
    },
    {
     "data": {
      "text/plain": [
       "pandas.core.series.Series"
      ]
     },
     "metadata": {},
     "output_type": "display_data"
    },
    {
     "data": {
      "text/plain": [
       "0     10\n",
       "2    200\n",
       "4     80\n",
       "dtype: int64"
      ]
     },
     "metadata": {},
     "output_type": "display_data"
    },
    {
     "data": {
      "text/plain": [
       "pandas.core.series.Series"
      ]
     },
     "metadata": {},
     "output_type": "display_data"
    }
   ],
   "source": [
    "## ----------------------------------------------\n",
    "## 원소 여러 개 선택 => Series변수명[시작인덱스 : 끝인덱스+1 : 간격]\n",
    "##    (슬라이싱)       Series변수명.iloc[시작인덱스 : 끝인덱스+1 : 간격]\n",
    "##                    Series변수명.loc[시작인덱스 : 끝인덱스+1 : 간격]\n",
    "## ----------------------------------------------\n",
    "## -> 0번, 2번, 4번 3개 선택\n",
    "# ret = dataSR[0:6:2]\n",
    "# ret2 = dataSR.iloc[0:6:2]\n",
    "# ret3 = dataSR.loc[0:6:2]\n",
    "\n",
    "ret = dataSR[::2]\n",
    "ret2 = dataSR.iloc[::2]\n",
    "ret3 = dataSR.loc[::2]\n",
    "\n",
    "\n",
    "## 확인\n",
    "print(\"========= 0번, 2번, 4번 3개 선택 ==============\")\n",
    "display(ret, type(ret))\n",
    "display(ret2, type(ret2))\n",
    "display(ret3, type(ret3))\n"
   ]
  },
  {
   "cell_type": "code",
   "execution_count": null,
   "id": "32b9b2d5",
   "metadata": {},
   "outputs": [
    {
     "name": "stdout",
     "output_type": "stream",
     "text": [
      "========= 0~3번 4개 선택 ==============\n"
     ]
    },
    {
     "data": {
      "text/plain": [
       "0     10\n",
       "1      9\n",
       "2    200\n",
       "3     77\n",
       "dtype: int64"
      ]
     },
     "metadata": {},
     "output_type": "display_data"
    },
    {
     "data": {
      "text/plain": [
       "pandas.core.series.Series"
      ]
     },
     "metadata": {},
     "output_type": "display_data"
    },
    {
     "data": {
      "text/plain": [
       "0     10\n",
       "1      9\n",
       "2    200\n",
       "3     77\n",
       "4     80\n",
       "dtype: int64"
      ]
     },
     "metadata": {},
     "output_type": "display_data"
    },
    {
     "data": {
      "text/plain": [
       "pandas.core.series.Series"
      ]
     },
     "metadata": {},
     "output_type": "display_data"
    }
   ],
   "source": [
    "##=> 0~3번 4개 선택\n",
    "ret4 = dataSR.iloc[0:4]\n",
    "ret5 = dataSR.loc[0:3] ## .loc는[시작:끝] 에서 끝 인덱스 포함!!! 주의!!!\n",
    "\n",
    "print(\"========= 0~3번 4개 선택 ==============\")\n",
    "display(ret4, type(ret4))\n",
    "display(ret5, type(ret5))\n"
   ]
  }
 ],
 "metadata": {
  "kernelspec": {
   "display_name": "DATA_311",
   "language": "python",
   "name": "python3"
  },
  "language_info": {
   "codemirror_mode": {
    "name": "ipython",
    "version": 3
   },
   "file_extension": ".py",
   "mimetype": "text/x-python",
   "name": "python",
   "nbconvert_exporter": "python",
   "pygments_lexer": "ipython3",
   "version": "3.11.13"
  }
 },
 "nbformat": 4,
 "nbformat_minor": 5
}
