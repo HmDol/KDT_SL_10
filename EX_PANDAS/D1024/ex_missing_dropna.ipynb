{
 "cells": [
  {
   "cell_type": "markdown",
   "id": "2c414dfb",
   "metadata": {},
   "source": [
    "### [ 데이터 전처리 - 결측치 삭제 ]<hr>\n",
    "- 결측치 (Missing Value)\n",
    "    * 데이터/값이 존재하지 않는 것\n",
    "- 결측치 체크\n",
    "    * isna() : 결측치 여부에 따라 True/False 반환\n",
    "- 결측치 처리\n",
    "    * 삭제 : dropna()\n",
    "    * 치환 : fillna()\n",
    "    "
   ]
  },
  {
   "cell_type": "markdown",
   "id": "f36e3df1",
   "metadata": {},
   "source": [
    "[1] 모듈 로딩 및 데이터 준비<hr>"
   ]
  },
  {
   "cell_type": "code",
   "execution_count": 6,
   "id": "23c19ee3",
   "metadata": {},
   "outputs": [
    {
     "data": {
      "text/html": [
       "<div>\n",
       "<style scoped>\n",
       "    .dataframe tbody tr th:only-of-type {\n",
       "        vertical-align: middle;\n",
       "    }\n",
       "\n",
       "    .dataframe tbody tr th {\n",
       "        vertical-align: top;\n",
       "    }\n",
       "\n",
       "    .dataframe thead th {\n",
       "        text-align: right;\n",
       "    }\n",
       "</style>\n",
       "<table border=\"1\" class=\"dataframe\">\n",
       "  <thead>\n",
       "    <tr style=\"text-align: right;\">\n",
       "      <th></th>\n",
       "      <th>age</th>\n",
       "      <th>born</th>\n",
       "      <th>name</th>\n",
       "      <th>toy</th>\n",
       "    </tr>\n",
       "  </thead>\n",
       "  <tbody>\n",
       "    <tr>\n",
       "      <th>0</th>\n",
       "      <td>5.0</td>\n",
       "      <td>NaT</td>\n",
       "      <td>Alfred</td>\n",
       "      <td>None</td>\n",
       "    </tr>\n",
       "    <tr>\n",
       "      <th>1</th>\n",
       "      <td>6.0</td>\n",
       "      <td>1939-05-27</td>\n",
       "      <td>Batman</td>\n",
       "      <td>Batmobile</td>\n",
       "    </tr>\n",
       "    <tr>\n",
       "      <th>2</th>\n",
       "      <td>NaN</td>\n",
       "      <td>1940-04-25</td>\n",
       "      <td></td>\n",
       "      <td>Joker</td>\n",
       "    </tr>\n",
       "  </tbody>\n",
       "</table>\n",
       "</div>"
      ],
      "text/plain": [
       "   age       born    name        toy\n",
       "0  5.0        NaT  Alfred       None\n",
       "1  6.0 1939-05-27  Batman  Batmobile\n",
       "2  NaN 1940-04-25              Joker"
      ]
     },
     "metadata": {},
     "output_type": "display_data"
    },
    {
     "name": "stdout",
     "output_type": "stream",
     "text": [
      "<class 'pandas.core.frame.DataFrame'>\n",
      "RangeIndex: 3 entries, 0 to 2\n",
      "Data columns (total 4 columns):\n",
      " #   Column  Non-Null Count  Dtype         \n",
      "---  ------  --------------  -----         \n",
      " 0   age     2 non-null      float64       \n",
      " 1   born    2 non-null      datetime64[ns]\n",
      " 2   name    3 non-null      object        \n",
      " 3   toy     2 non-null      object        \n",
      "dtypes: datetime64[ns](1), float64(1), object(2)\n",
      "memory usage: 228.0+ bytes\n"
     ]
    }
   ],
   "source": [
    "## 모듈 로딩 \n",
    "import pandas as pd\n",
    "import numpy as np\n",
    "\n",
    "## df생성\n",
    "df =pd.DataFrame( { 'age' : [ 5, 6, np.nan ],\n",
    "                    'born': [ pd.NaT, pd.Timestamp('1939-05-27'),pd.Timestamp('1940-04-25')],\n",
    "                    'name' : ['Alfred', 'Batman', ''],\n",
    "                    'toy' : [None, 'Batmobile', 'Joker']})\n",
    "## DF 출력\n",
    "display(df)\n",
    "\n",
    "## 기본 요약 정보\n",
    "df.info()\n"
   ]
  },
  {
   "cell_type": "markdown",
   "id": "eef91af5",
   "metadata": {},
   "source": [
    "[2] 결측치 체크 : isna() / isnull() <hr>"
   ]
  },
  {
   "cell_type": "code",
   "execution_count": 8,
   "id": "1693d42c",
   "metadata": {},
   "outputs": [
    {
     "data": {
      "text/html": [
       "<div>\n",
       "<style scoped>\n",
       "    .dataframe tbody tr th:only-of-type {\n",
       "        vertical-align: middle;\n",
       "    }\n",
       "\n",
       "    .dataframe tbody tr th {\n",
       "        vertical-align: top;\n",
       "    }\n",
       "\n",
       "    .dataframe thead th {\n",
       "        text-align: right;\n",
       "    }\n",
       "</style>\n",
       "<table border=\"1\" class=\"dataframe\">\n",
       "  <thead>\n",
       "    <tr style=\"text-align: right;\">\n",
       "      <th></th>\n",
       "      <th>age</th>\n",
       "      <th>born</th>\n",
       "      <th>name</th>\n",
       "      <th>toy</th>\n",
       "    </tr>\n",
       "  </thead>\n",
       "  <tbody>\n",
       "    <tr>\n",
       "      <th>0</th>\n",
       "      <td>False</td>\n",
       "      <td>True</td>\n",
       "      <td>False</td>\n",
       "      <td>True</td>\n",
       "    </tr>\n",
       "    <tr>\n",
       "      <th>1</th>\n",
       "      <td>False</td>\n",
       "      <td>False</td>\n",
       "      <td>False</td>\n",
       "      <td>False</td>\n",
       "    </tr>\n",
       "    <tr>\n",
       "      <th>2</th>\n",
       "      <td>True</td>\n",
       "      <td>False</td>\n",
       "      <td>False</td>\n",
       "      <td>False</td>\n",
       "    </tr>\n",
       "  </tbody>\n",
       "</table>\n",
       "</div>"
      ],
      "text/plain": [
       "     age   born   name    toy\n",
       "0  False   True  False   True\n",
       "1  False  False  False  False\n",
       "2   True  False  False  False"
      ]
     },
     "metadata": {},
     "output_type": "display_data"
    },
    {
     "name": "stdout",
     "output_type": "stream",
     "text": [
      "컬럼별 결측치 수 \n",
      "age     1\n",
      "born    1\n",
      "name    0\n",
      "toy     1\n",
      "dtype: int64\n"
     ]
    }
   ],
   "source": [
    "## 결측치 체크\n",
    "display(df.isna())\n",
    "\n",
    "## True => 1, False => 0 : 계산 진행\n",
    "print(f'컬럼별 결측치 수 \\n{df.isna().sum()}')"
   ]
  },
  {
   "cell_type": "markdown",
   "id": "a07771c9",
   "metadata": {},
   "source": [
    "[3] 결측치 삭제 : dropna() <hr>\n"
   ]
  },
  {
   "cell_type": "code",
   "execution_count": 10,
   "id": "fec3e646",
   "metadata": {},
   "outputs": [
    {
     "data": {
      "text/html": [
       "<div>\n",
       "<style scoped>\n",
       "    .dataframe tbody tr th:only-of-type {\n",
       "        vertical-align: middle;\n",
       "    }\n",
       "\n",
       "    .dataframe tbody tr th {\n",
       "        vertical-align: top;\n",
       "    }\n",
       "\n",
       "    .dataframe thead th {\n",
       "        text-align: right;\n",
       "    }\n",
       "</style>\n",
       "<table border=\"1\" class=\"dataframe\">\n",
       "  <thead>\n",
       "    <tr style=\"text-align: right;\">\n",
       "      <th></th>\n",
       "      <th>age</th>\n",
       "      <th>born</th>\n",
       "      <th>name</th>\n",
       "      <th>toy</th>\n",
       "    </tr>\n",
       "  </thead>\n",
       "  <tbody>\n",
       "    <tr>\n",
       "      <th>1</th>\n",
       "      <td>6.0</td>\n",
       "      <td>1939-05-27</td>\n",
       "      <td>Batman</td>\n",
       "      <td>Batmobile</td>\n",
       "    </tr>\n",
       "  </tbody>\n",
       "</table>\n",
       "</div>"
      ],
      "text/plain": [
       "   age       born    name        toy\n",
       "1  6.0 1939-05-27  Batman  Batmobile"
      ]
     },
     "execution_count": 10,
     "metadata": {},
     "output_type": "execute_result"
    }
   ],
   "source": [
    "## 결측치 존재하는 행 제거 : 행단위로 검사 진행해서 1개라도 결측치가 있으면 삭제\n",
    "df.dropna()"
   ]
  },
  {
   "cell_type": "code",
   "execution_count": 12,
   "id": "db797680",
   "metadata": {},
   "outputs": [
    {
     "data": {
      "text/html": [
       "<div>\n",
       "<style scoped>\n",
       "    .dataframe tbody tr th:only-of-type {\n",
       "        vertical-align: middle;\n",
       "    }\n",
       "\n",
       "    .dataframe tbody tr th {\n",
       "        vertical-align: top;\n",
       "    }\n",
       "\n",
       "    .dataframe thead th {\n",
       "        text-align: right;\n",
       "    }\n",
       "</style>\n",
       "<table border=\"1\" class=\"dataframe\">\n",
       "  <thead>\n",
       "    <tr style=\"text-align: right;\">\n",
       "      <th></th>\n",
       "      <th>name</th>\n",
       "    </tr>\n",
       "  </thead>\n",
       "  <tbody>\n",
       "    <tr>\n",
       "      <th>0</th>\n",
       "      <td>Alfred</td>\n",
       "    </tr>\n",
       "    <tr>\n",
       "      <th>1</th>\n",
       "      <td>Batman</td>\n",
       "    </tr>\n",
       "    <tr>\n",
       "      <th>2</th>\n",
       "      <td></td>\n",
       "    </tr>\n",
       "  </tbody>\n",
       "</table>\n",
       "</div>"
      ],
      "text/plain": [
       "     name\n",
       "0  Alfred\n",
       "1  Batman\n",
       "2        "
      ]
     },
     "execution_count": 12,
     "metadata": {},
     "output_type": "execute_result"
    }
   ],
   "source": [
    "## 결측치 존재하는 열 제거 : axis = 1 or columns 설정\n",
    "df.dropna(axis='columns')"
   ]
  },
  {
   "cell_type": "code",
   "execution_count": 14,
   "id": "4305ed61",
   "metadata": {},
   "outputs": [
    {
     "data": {
      "text/html": [
       "<div>\n",
       "<style scoped>\n",
       "    .dataframe tbody tr th:only-of-type {\n",
       "        vertical-align: middle;\n",
       "    }\n",
       "\n",
       "    .dataframe tbody tr th {\n",
       "        vertical-align: top;\n",
       "    }\n",
       "\n",
       "    .dataframe thead th {\n",
       "        text-align: right;\n",
       "    }\n",
       "</style>\n",
       "<table border=\"1\" class=\"dataframe\">\n",
       "  <thead>\n",
       "    <tr style=\"text-align: right;\">\n",
       "      <th></th>\n",
       "      <th>age</th>\n",
       "      <th>born</th>\n",
       "      <th>name</th>\n",
       "      <th>toy</th>\n",
       "    </tr>\n",
       "  </thead>\n",
       "  <tbody>\n",
       "    <tr>\n",
       "      <th>0</th>\n",
       "      <td>5.0</td>\n",
       "      <td>NaT</td>\n",
       "      <td>Alfred</td>\n",
       "      <td>None</td>\n",
       "    </tr>\n",
       "    <tr>\n",
       "      <th>1</th>\n",
       "      <td>6.0</td>\n",
       "      <td>1939-05-27</td>\n",
       "      <td>Batman</td>\n",
       "      <td>Batmobile</td>\n",
       "    </tr>\n",
       "    <tr>\n",
       "      <th>2</th>\n",
       "      <td>NaN</td>\n",
       "      <td>1940-04-25</td>\n",
       "      <td></td>\n",
       "      <td>Joker</td>\n",
       "    </tr>\n",
       "  </tbody>\n",
       "</table>\n",
       "</div>"
      ],
      "text/plain": [
       "   age       born    name        toy\n",
       "0  5.0        NaT  Alfred       None\n",
       "1  6.0 1939-05-27  Batman  Batmobile\n",
       "2  NaN 1940-04-25              Joker"
      ]
     },
     "execution_count": 14,
     "metadata": {},
     "output_type": "execute_result"
    }
   ],
   "source": [
    "## 결측치 존재하는 행 제거\n",
    "## how : 제거 방식/기준 설정\n",
    "##      - 'all' : 모든 속성이 결측치인 행\n",
    "##      - 'any' : 1개 이상의 속성이 결측치인 행 [기본]\n",
    "df.dropna(how='all')"
   ]
  },
  {
   "cell_type": "code",
   "execution_count": 16,
   "id": "078c330f",
   "metadata": {},
   "outputs": [
    {
     "data": {
      "text/html": [
       "<div>\n",
       "<style scoped>\n",
       "    .dataframe tbody tr th:only-of-type {\n",
       "        vertical-align: middle;\n",
       "    }\n",
       "\n",
       "    .dataframe tbody tr th {\n",
       "        vertical-align: top;\n",
       "    }\n",
       "\n",
       "    .dataframe thead th {\n",
       "        text-align: right;\n",
       "    }\n",
       "</style>\n",
       "<table border=\"1\" class=\"dataframe\">\n",
       "  <thead>\n",
       "    <tr style=\"text-align: right;\">\n",
       "      <th></th>\n",
       "      <th>age</th>\n",
       "      <th>born</th>\n",
       "      <th>name</th>\n",
       "      <th>toy</th>\n",
       "    </tr>\n",
       "  </thead>\n",
       "  <tbody>\n",
       "    <tr>\n",
       "      <th>0</th>\n",
       "      <td>5.0</td>\n",
       "      <td>NaT</td>\n",
       "      <td>Alfred</td>\n",
       "      <td>None</td>\n",
       "    </tr>\n",
       "    <tr>\n",
       "      <th>1</th>\n",
       "      <td>6.0</td>\n",
       "      <td>1939-05-27</td>\n",
       "      <td>Batman</td>\n",
       "      <td>Batmobile</td>\n",
       "    </tr>\n",
       "    <tr>\n",
       "      <th>2</th>\n",
       "      <td>NaN</td>\n",
       "      <td>1940-04-25</td>\n",
       "      <td></td>\n",
       "      <td>Joker</td>\n",
       "    </tr>\n",
       "  </tbody>\n",
       "</table>\n",
       "</div>"
      ],
      "text/plain": [
       "   age       born    name        toy\n",
       "0  5.0        NaT  Alfred       None\n",
       "1  6.0 1939-05-27  Batman  Batmobile\n",
       "2  NaN 1940-04-25              Joker"
      ]
     },
     "execution_count": 16,
     "metadata": {},
     "output_type": "execute_result"
    }
   ],
   "source": [
    "## 결측치 존재하는 행/열 제거\n",
    "## thresh : 결측치가 아닌 최소 데이터 개수 설정\n",
    "##      - how와 함께 사용 불가\n",
    "\n",
    "df.dropna(thresh=2)"
   ]
  },
  {
   "cell_type": "code",
   "execution_count": 19,
   "id": "afef1889",
   "metadata": {},
   "outputs": [
    {
     "data": {
      "text/html": [
       "<div>\n",
       "<style scoped>\n",
       "    .dataframe tbody tr th:only-of-type {\n",
       "        vertical-align: middle;\n",
       "    }\n",
       "\n",
       "    .dataframe tbody tr th {\n",
       "        vertical-align: top;\n",
       "    }\n",
       "\n",
       "    .dataframe thead th {\n",
       "        text-align: right;\n",
       "    }\n",
       "</style>\n",
       "<table border=\"1\" class=\"dataframe\">\n",
       "  <thead>\n",
       "    <tr style=\"text-align: right;\">\n",
       "      <th></th>\n",
       "      <th>age</th>\n",
       "      <th>born</th>\n",
       "      <th>name</th>\n",
       "      <th>toy</th>\n",
       "    </tr>\n",
       "  </thead>\n",
       "  <tbody>\n",
       "    <tr>\n",
       "      <th>1</th>\n",
       "      <td>6.0</td>\n",
       "      <td>1939-05-27</td>\n",
       "      <td>Batman</td>\n",
       "      <td>Batmobile</td>\n",
       "    </tr>\n",
       "    <tr>\n",
       "      <th>2</th>\n",
       "      <td>NaN</td>\n",
       "      <td>1940-04-25</td>\n",
       "      <td></td>\n",
       "      <td>Joker</td>\n",
       "    </tr>\n",
       "  </tbody>\n",
       "</table>\n",
       "</div>"
      ],
      "text/plain": [
       "   age       born    name        toy\n",
       "1  6.0 1939-05-27  Batman  Batmobile\n",
       "2  NaN 1940-04-25              Joker"
      ]
     },
     "execution_count": 19,
     "metadata": {},
     "output_type": "execute_result"
    }
   ],
   "source": [
    "## 결측치 존재하는 행/열 제거\n",
    "## thresh : 결측치가 아닌 최소 데이터 개수 설정\n",
    "##      - how와 함께 사용 불가\n",
    "\n",
    "df.dropna(thresh=3)\n"
   ]
  },
  {
   "cell_type": "code",
   "execution_count": 21,
   "id": "39984a22",
   "metadata": {},
   "outputs": [
    {
     "data": {
      "text/html": [
       "<div>\n",
       "<style scoped>\n",
       "    .dataframe tbody tr th:only-of-type {\n",
       "        vertical-align: middle;\n",
       "    }\n",
       "\n",
       "    .dataframe tbody tr th {\n",
       "        vertical-align: top;\n",
       "    }\n",
       "\n",
       "    .dataframe thead th {\n",
       "        text-align: right;\n",
       "    }\n",
       "</style>\n",
       "<table border=\"1\" class=\"dataframe\">\n",
       "  <thead>\n",
       "    <tr style=\"text-align: right;\">\n",
       "      <th></th>\n",
       "      <th>age</th>\n",
       "      <th>born</th>\n",
       "      <th>name</th>\n",
       "      <th>toy</th>\n",
       "    </tr>\n",
       "  </thead>\n",
       "  <tbody>\n",
       "    <tr>\n",
       "      <th>1</th>\n",
       "      <td>6.0</td>\n",
       "      <td>1939-05-27</td>\n",
       "      <td>Batman</td>\n",
       "      <td>Batmobile</td>\n",
       "    </tr>\n",
       "  </tbody>\n",
       "</table>\n",
       "</div>"
      ],
      "text/plain": [
       "   age       born    name        toy\n",
       "1  6.0 1939-05-27  Batman  Batmobile"
      ]
     },
     "execution_count": 21,
     "metadata": {},
     "output_type": "execute_result"
    }
   ],
   "source": [
    "## 결측치 존재하는 행/열 제거\n",
    "## thresh : 결측치가 아닌 최소 데이터 개수 설정\n",
    "##      - how와 함께 사용 불가\n",
    "\n",
    "df.dropna(thresh=4)"
   ]
  },
  {
   "cell_type": "code",
   "execution_count": 24,
   "id": "2ae862ba",
   "metadata": {},
   "outputs": [
    {
     "data": {
      "text/html": [
       "<div>\n",
       "<style scoped>\n",
       "    .dataframe tbody tr th:only-of-type {\n",
       "        vertical-align: middle;\n",
       "    }\n",
       "\n",
       "    .dataframe tbody tr th {\n",
       "        vertical-align: top;\n",
       "    }\n",
       "\n",
       "    .dataframe thead th {\n",
       "        text-align: right;\n",
       "    }\n",
       "</style>\n",
       "<table border=\"1\" class=\"dataframe\">\n",
       "  <thead>\n",
       "    <tr style=\"text-align: right;\">\n",
       "      <th></th>\n",
       "      <th>age</th>\n",
       "      <th>born</th>\n",
       "      <th>name</th>\n",
       "      <th>toy</th>\n",
       "    </tr>\n",
       "  </thead>\n",
       "  <tbody>\n",
       "    <tr>\n",
       "      <th>1</th>\n",
       "      <td>6.0</td>\n",
       "      <td>1939-05-27</td>\n",
       "      <td>Batman</td>\n",
       "      <td>Batmobile</td>\n",
       "    </tr>\n",
       "    <tr>\n",
       "      <th>2</th>\n",
       "      <td>NaN</td>\n",
       "      <td>1940-04-25</td>\n",
       "      <td></td>\n",
       "      <td>Joker</td>\n",
       "    </tr>\n",
       "  </tbody>\n",
       "</table>\n",
       "</div>"
      ],
      "text/plain": [
       "   age       born    name        toy\n",
       "1  6.0 1939-05-27  Batman  Batmobile\n",
       "2  NaN 1940-04-25              Joker"
      ]
     },
     "execution_count": 24,
     "metadata": {},
     "output_type": "execute_result"
    }
   ],
   "source": [
    "## subset : 특정 컬럼 또는 행만 결측치 검사 설정\n",
    "df.dropna(subset=['name']) # < == 해당 컬럼이 결측치인 행을 삭제\n",
    "df.dropna(subset=['born'])"
   ]
  },
  {
   "cell_type": "code",
   "execution_count": 26,
   "id": "9cb7c501",
   "metadata": {},
   "outputs": [
    {
     "data": {
      "text/html": [
       "<div>\n",
       "<style scoped>\n",
       "    .dataframe tbody tr th:only-of-type {\n",
       "        vertical-align: middle;\n",
       "    }\n",
       "\n",
       "    .dataframe tbody tr th {\n",
       "        vertical-align: top;\n",
       "    }\n",
       "\n",
       "    .dataframe thead th {\n",
       "        text-align: right;\n",
       "    }\n",
       "</style>\n",
       "<table border=\"1\" class=\"dataframe\">\n",
       "  <thead>\n",
       "    <tr style=\"text-align: right;\">\n",
       "      <th></th>\n",
       "      <th>age</th>\n",
       "      <th>born</th>\n",
       "      <th>name</th>\n",
       "      <th>toy</th>\n",
       "    </tr>\n",
       "  </thead>\n",
       "  <tbody>\n",
       "    <tr>\n",
       "      <th>0</th>\n",
       "      <td>5.0</td>\n",
       "      <td>NaT</td>\n",
       "      <td>Alfred</td>\n",
       "      <td>None</td>\n",
       "    </tr>\n",
       "    <tr>\n",
       "      <th>1</th>\n",
       "      <td>6.0</td>\n",
       "      <td>1939-05-27</td>\n",
       "      <td>Batman</td>\n",
       "      <td>Batmobile</td>\n",
       "    </tr>\n",
       "    <tr>\n",
       "      <th>2</th>\n",
       "      <td>NaN</td>\n",
       "      <td>1940-04-25</td>\n",
       "      <td></td>\n",
       "      <td>Joker</td>\n",
       "    </tr>\n",
       "  </tbody>\n",
       "</table>\n",
       "</div>"
      ],
      "text/plain": [
       "   age       born    name        toy\n",
       "0  5.0        NaT  Alfred       None\n",
       "1  6.0 1939-05-27  Batman  Batmobile\n",
       "2  NaN 1940-04-25              Joker"
      ]
     },
     "execution_count": 26,
     "metadata": {},
     "output_type": "execute_result"
    }
   ],
   "source": [
    "df.dropna(subset=['toy', 'name']) ## name toy 중 1개라도 결측치면 삭제\n",
    "df.dropna(subset=['toy', 'name'], how='all') ## name toy 모두 결측치면 삭제\n"
   ]
  }
 ],
 "metadata": {
  "kernelspec": {
   "display_name": "DATA_311",
   "language": "python",
   "name": "python3"
  },
  "language_info": {
   "codemirror_mode": {
    "name": "ipython",
    "version": 3
   },
   "file_extension": ".py",
   "mimetype": "text/x-python",
   "name": "python",
   "nbconvert_exporter": "python",
   "pygments_lexer": "ipython3",
   "version": "3.11.13"
  }
 },
 "nbformat": 4,
 "nbformat_minor": 5
}
